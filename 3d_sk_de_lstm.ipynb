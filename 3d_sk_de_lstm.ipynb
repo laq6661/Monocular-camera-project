{
  "nbformat": 4,
  "nbformat_minor": 0,
  "metadata": {
    "colab": {
      "name": "3d_sk_de_lstm.ipynb",
      "provenance": [],
      "collapsed_sections": [],
      "include_colab_link": true
    },
    "kernelspec": {
      "name": "python3",
      "display_name": "Python 3"
    },
    "accelerator": "GPU"
  },
  "cells": [
    {
      "cell_type": "markdown",
      "metadata": {
        "id": "view-in-github",
        "colab_type": "text"
      },
      "source": [
        "<a href=\"https://colab.research.google.com/github/laq6661/Monocular-camera-project/blob/master/3d_sk_de_lstm.ipynb\" target=\"_parent\"><img src=\"https://colab.research.google.com/assets/colab-badge.svg\" alt=\"Open In Colab\"/></a>"
      ]
    },
    {
      "cell_type": "code",
      "metadata": {
        "id": "u7dOGrXwoICF",
        "colab_type": "code",
        "colab": {
          "base_uri": "https://localhost:8080/",
          "height": 35
        },
        "outputId": "a0ad9c05-a8a7-434a-be2e-abb81b28e7ee"
      },
      "source": [
        "from sklearn.preprocessing import LabelEncoder\n",
        "from sklearn.model_selection import train_test_split\n",
        "from sklearn.metrics import classification_report\n",
        "from keras.preprocessing.image import img_to_array\n",
        "from keras.utils import np_utils\n",
        "from imutils import paths\n",
        "import matplotlib.pyplot as plt\n",
        "import numpy as np\n",
        "import imutils\n",
        "import cv2\n",
        "import os\n",
        "from keras.layers import Dropout\n",
        "from keras.layers import LSTM\n",
        "from keras.models import Sequential\n",
        "from keras.layers.convolutional import Conv1D\n",
        "from keras.layers.convolutional import Conv2D\n",
        "from keras.layers.convolutional import MaxPooling1D\n",
        "from keras.layers import Convolution2D, ConvLSTM2D, MaxPooling2D, UpSampling2D\n",
        "from keras.layers.normalization import BatchNormalization\n",
        "from keras.layers.core import Activation\n",
        "from keras.layers.core import Activation\n",
        "from keras.layers.core import Flatten\n",
        "from keras.layers.core import Dense\n",
        "from google.colab import drive"
      ],
      "execution_count": 1,
      "outputs": [
        {
          "output_type": "stream",
          "text": [
            "Using TensorFlow backend.\n"
          ],
          "name": "stderr"
        }
      ]
    },
    {
      "cell_type": "code",
      "metadata": {
        "id": "8vpxtJiTqs-1",
        "colab_type": "code",
        "outputId": "c8c69910-e27c-4057-c4aa-873535ff7ad5",
        "colab": {
          "base_uri": "https://localhost:8080/",
          "height": 35
        }
      },
      "source": [
        "from google.colab import drive\n",
        "drive.mount('/content/drive')"
      ],
      "execution_count": 2,
      "outputs": [
        {
          "output_type": "stream",
          "text": [
            "Drive already mounted at /content/drive; to attempt to forcibly remount, call drive.mount(\"/content/drive\", force_remount=True).\n"
          ],
          "name": "stdout"
        }
      ]
    },
    {
      "cell_type": "code",
      "metadata": {
        "id": "fysRZ9Gatf0h",
        "colab_type": "code",
        "outputId": "d8af5977-b15b-486c-880f-9e690b8c12a9",
        "colab": {
          "base_uri": "https://localhost:8080/",
          "height": 35
        }
      },
      "source": [
        "\n",
        "data = np.load('/content/drive/My Drive/data_sk/sk_lstmdata_h2.npy')\n",
        "print(np.shape(data))"
      ],
      "execution_count": 3,
      "outputs": [
        {
          "output_type": "stream",
          "text": [
            "(1000000, 3, 150)\n"
          ],
          "name": "stdout"
        }
      ]
    },
    {
      "cell_type": "code",
      "metadata": {
        "id": "b2wDXL2iyYnC",
        "colab_type": "code",
        "outputId": "de719b68-a2b5-48c3-c8cc-051da8e0086c",
        "colab": {
          "base_uri": "https://localhost:8080/",
          "height": 52
        }
      },
      "source": [
        "labels=np.load('/content/drive/My Drive/data_sk/sk_lstmlabel_h2.npy')\n",
        "print(labels[0:5])\n",
        "print(np.shape(labels))"
      ],
      "execution_count": 4,
      "outputs": [
        {
          "output_type": "stream",
          "text": [
            "[32 32 32 32 32]\n",
            "(1000000,)\n"
          ],
          "name": "stdout"
        }
      ]
    },
    {
      "cell_type": "code",
      "metadata": {
        "id": "hq2Z9X2ktyly",
        "colab_type": "code",
        "colab": {}
      },
      "source": [
        "data = np.array(data)\n",
        "labels = np.array(labels)\n",
        "# for a in range(1,53,1):\n",
        "#   print(\"number of \",a,\"data is:\",list(labels).count(a))"
      ],
      "execution_count": 0,
      "outputs": []
    },
    {
      "cell_type": "code",
      "metadata": {
        "id": "HNo_8w8Rt1aC",
        "colab_type": "code",
        "outputId": "dee3f3db-9450-475a-b2f4-ce1fa3074b42",
        "colab": {
          "base_uri": "https://localhost:8080/",
          "height": 52
        }
      },
      "source": [
        "le = LabelEncoder().fit(labels)   # LabelEncoder可以将标签分配一个0—n_classes-1之间的编码 \n",
        "print(labels)\n",
        "labels = np_utils.to_categorical(le.transform(labels), 51)  # 2是num_class表示输出的是2列数据的意思\n",
        "print(np.shape(labels))"
      ],
      "execution_count": 6,
      "outputs": [
        {
          "output_type": "stream",
          "text": [
            "[32 32 32 ...  1  1  1]\n",
            "(1000000, 51)\n"
          ],
          "name": "stdout"
        }
      ]
    },
    {
      "cell_type": "code",
      "metadata": {
        "id": "qOPMFRjkt3ZS",
        "colab_type": "code",
        "colab": {}
      },
      "source": [
        "(trainX, testX, trainY, testY) = train_test_split(data, labels, test_size = 0.15, \n",
        "                                                 stratify = labels, random_state = 42)"
      ],
      "execution_count": 0,
      "outputs": []
    },
    {
      "cell_type": "code",
      "metadata": {
        "id": "zsO4qSC4t60K",
        "colab_type": "code",
        "outputId": "a94525f5-97b1-4a20-a34e-8b2a6fd6ff01",
        "colab": {
          "base_uri": "https://localhost:8080/",
          "height": 1000
        }
      },
      "source": [
        "print(np.shape(data)[2])\n",
        "print(trainX[0,:])\n",
        "print(np.shape(trainY))\n",
        "print(trainY)\n",
        "print(np.shape(testX))\n",
        "print(testY)"
      ],
      "execution_count": 8,
      "outputs": [
        {
          "output_type": "stream",
          "text": [
            "150\n",
            "[[ 0.073673 -0.090314  3.247111  0.052616  0.195476  3.230546  0.031933\n",
            "   0.475514  3.206363  0.022293  0.60432   3.219299 -0.068336  0.338712\n",
            "   3.118202 -0.114874  0.123874  3.091527 -0.092114 -0.092095  3.060054\n",
            "  -0.076253 -0.157682  3.063973  0.188879  0.371519  3.293297  0.318848\n",
            "   0.233853  3.239884  0.408983  0.289406  3.109535  0.440857  0.333603\n",
            "   3.048019  0.025247 -0.091219  3.180043 -0.046264 -0.427051  3.240552\n",
            "  -0.046838 -0.743973  3.288657 -0.019736 -0.831222  3.221023  0.119465\n",
            "  -0.087956  3.245849  0.067814 -0.418577  3.327128  0.018829 -0.735643\n",
            "   3.344908  0.041292 -0.813701  3.264805  0.037075  0.406359  3.214335\n",
            "  -0.069127 -0.220442  3.071297 -0.04328  -0.13829   3.058429  0.479459\n",
            "   0.361938  2.997326  0.434137  0.368148  3.028286  0.        0.\n",
            "   0.        0.        0.        0.        0.        0.        0.\n",
            "   0.        0.        0.        0.        0.        0.        0.\n",
            "   0.        0.        0.        0.        0.        0.        0.\n",
            "   0.        0.        0.        0.        0.        0.        0.\n",
            "   0.        0.        0.        0.        0.        0.        0.\n",
            "   0.        0.        0.        0.        0.        0.        0.\n",
            "   0.        0.        0.        0.        0.        0.        0.\n",
            "   0.        0.        0.        0.        0.        0.        0.\n",
            "   0.        0.        0.        0.        0.        0.        0.\n",
            "   0.        0.        0.        0.        0.        0.        0.\n",
            "   0.        0.        0.      ]\n",
            " [ 0.073471 -0.090733  3.246675  0.051889  0.195186  3.231507  0.029757\n",
            "   0.475394  3.209887  0.020599  0.604594  3.22157  -0.069323  0.338075\n",
            "   3.119628 -0.114896  0.123086  3.091946 -0.090608 -0.092618  3.059471\n",
            "  -0.075723 -0.157035  3.061547  0.162876  0.344593  3.25256   0.311624\n",
            "   0.231392  3.237598  0.41036   0.21168   3.102515  0.4535    0.226422\n",
            "   3.055223  0.024296 -0.09179   3.180059 -0.04701  -0.426715  3.240371\n",
            "  -0.047153 -0.743119  3.289977 -0.020321 -0.831577  3.221484  0.120178\n",
            "  -0.088513  3.244485  0.04644  -0.429672  3.318749  0.018735 -0.735289\n",
            "   3.344733  0.039996 -0.8144    3.266695  0.035313  0.406165  3.217153\n",
            "  -0.066364 -0.22092   3.073033 -0.043107 -0.14323   3.05391   0.501058\n",
            "   0.226851  2.980237  0.490509  0.248095  3.007     0.        0.\n",
            "   0.        0.        0.        0.        0.        0.        0.\n",
            "   0.        0.        0.        0.        0.        0.        0.\n",
            "   0.        0.        0.        0.        0.        0.        0.\n",
            "   0.        0.        0.        0.        0.        0.        0.\n",
            "   0.        0.        0.        0.        0.        0.        0.\n",
            "   0.        0.        0.        0.        0.        0.        0.\n",
            "   0.        0.        0.        0.        0.        0.        0.\n",
            "   0.        0.        0.        0.        0.        0.        0.\n",
            "   0.        0.        0.        0.        0.        0.        0.\n",
            "   0.        0.        0.        0.        0.        0.        0.\n",
            "   0.        0.        0.      ]\n",
            " [ 0.072845 -0.091794  3.24682   0.05085   0.194272  3.232981  0.028576\n",
            "   0.474802  3.211752  0.019235  0.603835  3.224032 -0.071367  0.337792\n",
            "   3.121502 -0.115071  0.122438  3.093417 -0.089513 -0.092846  3.058376\n",
            "  -0.074291 -0.157311  3.059115  0.1629    0.344631  3.252646  0.310199\n",
            "   0.184142  3.213602  0.422362  0.13632   3.099041  0.467899  0.113485\n",
            "   3.066766  0.022572 -0.093398  3.181764 -0.047417 -0.426008  3.239942\n",
            "  -0.069435 -0.706066  3.284789 -0.023953 -0.812251  3.231192  0.120193\n",
            "  -0.089421  3.243824  0.062535 -0.408635  3.323405  0.012938 -0.724495\n",
            "   3.348796  0.04623  -0.831389  3.282206  0.034137  0.405486  3.219011\n",
            "  -0.065102 -0.219961  3.070123 -0.042802 -0.134774  3.057231  0.500392\n",
            "   0.08726   2.991268  0.479323  0.118321  3.051     0.        0.\n",
            "   0.        0.        0.        0.        0.        0.        0.\n",
            "   0.        0.        0.        0.        0.        0.        0.\n",
            "   0.        0.        0.        0.        0.        0.        0.\n",
            "   0.        0.        0.        0.        0.        0.        0.\n",
            "   0.        0.        0.        0.        0.        0.        0.\n",
            "   0.        0.        0.        0.        0.        0.        0.\n",
            "   0.        0.        0.        0.        0.        0.        0.\n",
            "   0.        0.        0.        0.        0.        0.        0.\n",
            "   0.        0.        0.        0.        0.        0.        0.\n",
            "   0.        0.        0.        0.        0.        0.        0.\n",
            "   0.        0.        0.      ]]\n",
            "(850000, 51)\n",
            "[[0. 0. 0. ... 0. 0. 0.]\n",
            " [0. 0. 0. ... 0. 0. 0.]\n",
            " [0. 0. 0. ... 0. 0. 0.]\n",
            " ...\n",
            " [0. 0. 0. ... 0. 0. 0.]\n",
            " [0. 0. 0. ... 0. 0. 0.]\n",
            " [0. 0. 0. ... 0. 0. 1.]]\n",
            "(150000, 3, 150)\n",
            "[[0. 0. 0. ... 0. 0. 0.]\n",
            " [0. 0. 0. ... 0. 0. 0.]\n",
            " [0. 0. 0. ... 0. 0. 0.]\n",
            " ...\n",
            " [0. 0. 0. ... 0. 0. 0.]\n",
            " [0. 0. 0. ... 0. 0. 0.]\n",
            " [0. 0. 0. ... 0. 0. 0.]]\n"
          ],
          "name": "stdout"
        }
      ]
    },
    {
      "cell_type": "code",
      "metadata": {
        "id": "YIa_z3r_t80K",
        "colab_type": "code",
        "outputId": "7116673d-6bb2-4d78-e1cb-5c143263e39a",
        "colab": {
          "base_uri": "https://localhost:8080/",
          "height": 748
        }
      },
      "source": [
        "model = Sequential()\n",
        "model.add(LSTM(150,input_shape=(np.shape(data)[1],np.shape(data)[2]),return_sequences = True))\n",
        "model.add(Conv1D(kernel_size=3,filters=25,activation='relu',padding=\"same\"))\n",
        "model.add(MaxPooling1D(pool_size=3,strides=1,padding='same'))\n",
        "model.add(Conv1D(kernel_size=3, filters=50,  activation='relu', padding='same'))\n",
        "model.add(MaxPooling1D(pool_size=3, strides=2, padding='same'))\n",
        "model.add(Flatten())\n",
        "model.add(Dense(1024))\n",
        "#model.add(BatchNormalization())\n",
        "model.add(Activation('relu'))\n",
        "model.add(Dropout(rate=0.2))\n",
        "# model.add(Dense(1024))\n",
        "# # #model.add(BatchNormalization())\n",
        "# model.add(Activation('relu'))\n",
        "model.add(Dense(51, activation='softmax'))\n",
        "model.summary()"
      ],
      "execution_count": 9,
      "outputs": [
        {
          "output_type": "stream",
          "text": [
            "WARNING:tensorflow:From /usr/local/lib/python3.6/dist-packages/keras/backend/tensorflow_backend.py:66: The name tf.get_default_graph is deprecated. Please use tf.compat.v1.get_default_graph instead.\n",
            "\n",
            "WARNING:tensorflow:From /usr/local/lib/python3.6/dist-packages/keras/backend/tensorflow_backend.py:541: The name tf.placeholder is deprecated. Please use tf.compat.v1.placeholder instead.\n",
            "\n",
            "WARNING:tensorflow:From /usr/local/lib/python3.6/dist-packages/keras/backend/tensorflow_backend.py:4432: The name tf.random_uniform is deprecated. Please use tf.random.uniform instead.\n",
            "\n",
            "WARNING:tensorflow:From /usr/local/lib/python3.6/dist-packages/keras/backend/tensorflow_backend.py:4267: The name tf.nn.max_pool is deprecated. Please use tf.nn.max_pool2d instead.\n",
            "\n",
            "WARNING:tensorflow:From /usr/local/lib/python3.6/dist-packages/keras/backend/tensorflow_backend.py:148: The name tf.placeholder_with_default is deprecated. Please use tf.compat.v1.placeholder_with_default instead.\n",
            "\n",
            "WARNING:tensorflow:From /usr/local/lib/python3.6/dist-packages/keras/backend/tensorflow_backend.py:3733: calling dropout (from tensorflow.python.ops.nn_ops) with keep_prob is deprecated and will be removed in a future version.\n",
            "Instructions for updating:\n",
            "Please use `rate` instead of `keep_prob`. Rate should be set to `rate = 1 - keep_prob`.\n",
            "Model: \"sequential_1\"\n",
            "_________________________________________________________________\n",
            "Layer (type)                 Output Shape              Param #   \n",
            "=================================================================\n",
            "lstm_1 (LSTM)                (None, 3, 150)            180600    \n",
            "_________________________________________________________________\n",
            "conv1d_1 (Conv1D)            (None, 3, 25)             11275     \n",
            "_________________________________________________________________\n",
            "max_pooling1d_1 (MaxPooling1 (None, 3, 25)             0         \n",
            "_________________________________________________________________\n",
            "conv1d_2 (Conv1D)            (None, 3, 50)             3800      \n",
            "_________________________________________________________________\n",
            "max_pooling1d_2 (MaxPooling1 (None, 2, 50)             0         \n",
            "_________________________________________________________________\n",
            "flatten_1 (Flatten)          (None, 100)               0         \n",
            "_________________________________________________________________\n",
            "dense_1 (Dense)              (None, 1024)              103424    \n",
            "_________________________________________________________________\n",
            "activation_1 (Activation)    (None, 1024)              0         \n",
            "_________________________________________________________________\n",
            "dropout_1 (Dropout)          (None, 1024)              0         \n",
            "_________________________________________________________________\n",
            "dense_2 (Dense)              (None, 51)                52275     \n",
            "=================================================================\n",
            "Total params: 351,374\n",
            "Trainable params: 351,374\n",
            "Non-trainable params: 0\n",
            "_________________________________________________________________\n"
          ],
          "name": "stdout"
        }
      ]
    },
    {
      "cell_type": "code",
      "metadata": {
        "id": "cWUjBtkUt_ch",
        "colab_type": "code",
        "outputId": "31d0bbd5-168a-4159-a7ba-c8e7d7c43d22",
        "colab": {
          "base_uri": "https://localhost:8080/",
          "height": 451
        }
      },
      "source": [
        "model.compile(loss = \"binary_crossentropy\", optimizer = \"adam\", metrics = [\"accuracy\"])\n",
        "\n",
        "H = model.fit(trainX, trainY, validation_data = (testX, testY),\n",
        "              batch_size = 128, epochs = 12, verbose = 1)  #verbose = 1显示进度条"
      ],
      "execution_count": 14,
      "outputs": [
        {
          "output_type": "stream",
          "text": [
            "Train on 850000 samples, validate on 150000 samples\n",
            "Epoch 1/12\n",
            "850000/850000 [==============================] - 123s 145us/step - loss: 0.0170 - acc: 0.9941 - val_loss: 0.0151 - val_acc: 0.9948\n",
            "Epoch 2/12\n",
            "850000/850000 [==============================] - 122s 143us/step - loss: 0.0169 - acc: 0.9941 - val_loss: 0.0163 - val_acc: 0.9944\n",
            "Epoch 3/12\n",
            "850000/850000 [==============================] - 121s 142us/step - loss: 0.0168 - acc: 0.9942 - val_loss: 0.0160 - val_acc: 0.9945\n",
            "Epoch 4/12\n",
            "850000/850000 [==============================] - 120s 141us/step - loss: 0.0167 - acc: 0.9942 - val_loss: 0.0153 - val_acc: 0.9948\n",
            "Epoch 5/12\n",
            "850000/850000 [==============================] - 122s 144us/step - loss: 0.0165 - acc: 0.9943 - val_loss: 0.0142 - val_acc: 0.9951\n",
            "Epoch 6/12\n",
            "850000/850000 [==============================] - 121s 143us/step - loss: 0.0164 - acc: 0.9943 - val_loss: 0.0148 - val_acc: 0.9949\n",
            "Epoch 7/12\n",
            "850000/850000 [==============================] - 122s 144us/step - loss: 0.0163 - acc: 0.9943 - val_loss: 0.0152 - val_acc: 0.9948\n",
            "Epoch 8/12\n",
            "850000/850000 [==============================] - 120s 141us/step - loss: 0.0162 - acc: 0.9944 - val_loss: 0.0148 - val_acc: 0.9949\n",
            "Epoch 9/12\n",
            "850000/850000 [==============================] - 121s 142us/step - loss: 0.0161 - acc: 0.9944 - val_loss: 0.0150 - val_acc: 0.9949\n",
            "Epoch 10/12\n",
            "850000/850000 [==============================] - 121s 142us/step - loss: 0.0160 - acc: 0.9945 - val_loss: 0.0150 - val_acc: 0.9949\n",
            "Epoch 11/12\n",
            "850000/850000 [==============================] - 119s 140us/step - loss: 0.0159 - acc: 0.9945 - val_loss: 0.0138 - val_acc: 0.9952\n",
            "Epoch 12/12\n",
            "850000/850000 [==============================] - 120s 141us/step - loss: 0.0159 - acc: 0.9945 - val_loss: 0.0148 - val_acc: 0.9950\n"
          ],
          "name": "stdout"
        }
      ]
    },
    {
      "cell_type": "code",
      "metadata": {
        "id": "8ATOieO1uBwq",
        "colab_type": "code",
        "colab": {
          "base_uri": "https://localhost:8080/",
          "height": 1000
        },
        "outputId": "c4d25993-e456-409a-89da-7be1c3f17c6f"
      },
      "source": [
        "predictions = model.predict(testX, batch_size = 128)\n",
        "print(np.shape(predictions))\n",
        "print(predictions.argmax(axis =1))\n",
        "print(testY.argmax(axis = 1))\n",
        "leclass = [str(i) for i in le.classes_]\n",
        "print(leclass)\n",
        "print(classification_report(testY.argmax(axis = 1), predictions.argmax(axis = 1),\n",
        "                           target_names = leclass))"
      ],
      "execution_count": 15,
      "outputs": [
        {
          "output_type": "stream",
          "text": [
            "(150000, 51)\n",
            "[39 29 43 ... 41 41 42]\n",
            "[39 29 43 ... 41 41 42]\n",
            "['1', '2', '3', '4', '5', '6', '7', '8', '9', '10', '11', '12', '13', '14', '15', '16', '17', '18', '19', '20', '21', '22', '23', '24', '25', '26', '27', '28', '29', '30', '31', '32', '33', '34', '35', '36', '37', '38', '39', '40', '41', '42', '43', '44', '45', '46', '47', '48', '49', '50', '51']\n",
            "              precision    recall  f1-score   support\n",
            "\n",
            "           1       0.82      0.84      0.83      1537\n",
            "           2       0.89      0.86      0.87      5555\n",
            "           3       0.87      0.87      0.87      4976\n",
            "           4       0.86      0.88      0.87      2848\n",
            "           5       0.96      0.87      0.91      2432\n",
            "           6       0.83      0.76      0.80      2918\n",
            "           7       0.93      0.90      0.91      2522\n",
            "           8       0.86      0.89      0.87      4403\n",
            "           9       0.91      0.87      0.89      1151\n",
            "          10       0.93      0.93      0.93      5480\n",
            "          11       0.97      0.89      0.93       891\n",
            "          12       0.92      0.90      0.91      1635\n",
            "          13       0.84      0.85      0.84      3473\n",
            "          14       0.82      0.81      0.82      1244\n",
            "          15       0.74      0.80      0.77      2754\n",
            "          16       0.64      0.85      0.73      1373\n",
            "          17       0.57      0.78      0.66      2592\n",
            "          18       0.81      0.81      0.81       609\n",
            "          19       0.68      0.74      0.71      2032\n",
            "          20       0.94      0.95      0.94      4458\n",
            "          21       0.92      0.87      0.90      1012\n",
            "          22       0.90      0.80      0.85      2475\n",
            "          23       0.93      0.95      0.94      4698\n",
            "          24       0.88      0.82      0.85       941\n",
            "          25       0.83      0.83      0.83      3085\n",
            "          26       0.87      0.67      0.76       938\n",
            "          27       0.82      0.78      0.80       840\n",
            "          28       0.80      0.74      0.76      2782\n",
            "          29       0.75      0.77      0.76      2248\n",
            "          30       0.87      0.94      0.90      6730\n",
            "          31       0.81      0.81      0.81      3603\n",
            "          32       0.83      0.78      0.80      2281\n",
            "          33       0.93      0.89      0.91      1057\n",
            "          34       0.81      0.77      0.79       667\n",
            "          35       0.79      0.67      0.72      2304\n",
            "          36       0.61      0.61      0.61      1882\n",
            "          37       0.86      0.81      0.83      4128\n",
            "          38       0.66      0.84      0.74      1900\n",
            "          39       0.97      0.93      0.95      2591\n",
            "          40       0.89      0.87      0.88      3993\n",
            "          41       0.76      0.67      0.71      1889\n",
            "          42       0.91      0.87      0.89      3934\n",
            "          43       0.89      0.87      0.88      4156\n",
            "          44       0.83      0.85      0.84      3887\n",
            "          45       0.89      0.84      0.87      4610\n",
            "          46       0.97      0.98      0.98      3539\n",
            "          47       0.84      0.82      0.83      4859\n",
            "          48       0.85      0.86      0.85      6431\n",
            "          49       0.66      0.72      0.69      2225\n",
            "          50       0.85      0.82      0.84      4376\n",
            "          51       0.97      0.96      0.97      5056\n",
            "\n",
            "    accuracy                           0.85    150000\n",
            "   macro avg       0.84      0.83      0.84    150000\n",
            "weighted avg       0.85      0.85      0.85    150000\n",
            "\n"
          ],
          "name": "stdout"
        }
      ]
    },
    {
      "cell_type": "code",
      "metadata": {
        "id": "bj5I4fS9uEjB",
        "colab_type": "code",
        "colab": {}
      },
      "source": [
        "model.save(\"/content/drive/My Drive/data_sk/sk_lstm85.hdf5\")"
      ],
      "execution_count": 0,
      "outputs": []
    },
    {
      "cell_type": "code",
      "metadata": {
        "id": "BhGQatfruGzJ",
        "colab_type": "code",
        "colab": {}
      },
      "source": [
        "from keras.models import load_model\n",
        "loaded_model = load_model(\"/content/drive/My Drive/data_sk/sk_lstm85.hdf5\")"
      ],
      "execution_count": 0,
      "outputs": []
    }
  ]
}