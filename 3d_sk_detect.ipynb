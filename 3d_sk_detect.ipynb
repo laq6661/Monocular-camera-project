{
  "nbformat": 4,
  "nbformat_minor": 0,
  "metadata": {
    "colab": {
      "name": "3d_sk_detect.ipynb",
      "provenance": []
    },
    "kernelspec": {
      "name": "python3",
      "display_name": "Python 3"
    },
    "accelerator": "GPU"
  },
  "cells": [
    {
      "cell_type": "code",
      "metadata": {
        "id": "HSd7tCrj1QIA",
        "colab_type": "code",
        "colab": {}
      },
      "source": [
        "from sklearn.preprocessing import LabelEncoder\n",
        "from sklearn.model_selection import train_test_split\n",
        "from sklearn.metrics import classification_report\n",
        "from keras.preprocessing.image import img_to_array\n",
        "from keras.utils import np_utils\n",
        "from imutils import paths\n",
        "import matplotlib.pyplot as plt\n",
        "import numpy as np\n",
        "import imutils\n",
        "import cv2\n",
        "import os\n",
        "from keras.layers.normalization import BatchNormalization\n",
        "\n",
        "from keras.models import Sequential\n",
        "from keras.layers.convolutional import Conv2D\n",
        "from keras.layers.convolutional import MaxPooling2D\n",
        "from keras.layers.core import Activation\n",
        "from keras.layers.core import Flatten\n",
        "from keras.layers.core import Dense\n",
        "from google.colab import drive"
      ],
      "execution_count": 0,
      "outputs": []
    },
    {
      "cell_type": "code",
      "metadata": {
        "id": "AxKwgdMm1XtO",
        "colab_type": "code",
        "colab": {
          "base_uri": "https://localhost:8080/",
          "height": 69
        },
        "outputId": "24ed441d-912b-4632-d07f-5913660a9265"
      },
      "source": [
        "labels=np.load('/content/drive/My Drive/data_sk/sk_label.npy')\n",
        "print(labels)\n",
        "print(np.shape(labels))\n",
        "\n",
        "data = np.load('/content/drive/My Drive/data_sk/sk_data.npy')\n",
        "data = data.reshape(-1,150)\n",
        "print(np.shape(data))\n"
      ],
      "execution_count": 84,
      "outputs": [
        {
          "output_type": "stream",
          "text": [
            "[32 32 32 ... 30 30 30]\n",
            "(2455889,)\n",
            "(2455889, 150)\n"
          ],
          "name": "stdout"
        }
      ]
    },
    {
      "cell_type": "code",
      "metadata": {
        "id": "7fX1Ap4A4Wr1",
        "colab_type": "code",
        "colab": {
          "base_uri": "https://localhost:8080/",
          "height": 34
        },
        "outputId": "a01778e4-c877-4e61-b243-b311b0f16354"
      },
      "source": [
        "from google.colab import drive\n",
        "drive.mount('/content/drive')"
      ],
      "execution_count": 96,
      "outputs": [
        {
          "output_type": "stream",
          "text": [
            "Mounted at /content/drive\n"
          ],
          "name": "stdout"
        }
      ]
    },
    {
      "cell_type": "code",
      "metadata": {
        "id": "5HegTo501hRG",
        "colab_type": "code",
        "colab": {}
      },
      "source": [
        "data = np.array(data)\n",
        "labels = np.array(labels)\n",
        "# for a in range(1,53,1):\n",
        "#   print(\"number of \",a,\"data is:\",list(labels).count(a))"
      ],
      "execution_count": 0,
      "outputs": []
    },
    {
      "cell_type": "code",
      "metadata": {
        "id": "gGv54HV_9fDt",
        "colab_type": "code",
        "colab": {
          "base_uri": "https://localhost:8080/",
          "height": 52
        },
        "outputId": "e2b1740b-999f-41d4-92d9-aab4f993acd6"
      },
      "source": [
        "le = LabelEncoder().fit(labels)   # LabelEncoder可以将标签分配一个0—n_classes-1之间的编码 \n",
        "print(labels)\n",
        "labels = np_utils.to_categorical(le.transform(labels), 51)  # 2是num_class表示输出的是2列数据的意思\n",
        "print(np.shape(labels))"
      ],
      "execution_count": 86,
      "outputs": [
        {
          "output_type": "stream",
          "text": [
            "[32 32 32 ... 30 30 30]\n",
            "(2455889, 51)\n"
          ],
          "name": "stdout"
        }
      ]
    },
    {
      "cell_type": "code",
      "metadata": {
        "id": "RPVOdALy_w5T",
        "colab_type": "code",
        "colab": {}
      },
      "source": [
        "(trainX, testX, trainY, testY) = train_test_split(data, labels, test_size = 0.20, \n",
        "                                                 stratify = labels, random_state = 42)"
      ],
      "execution_count": 0,
      "outputs": []
    },
    {
      "cell_type": "code",
      "metadata": {
        "id": "AoUJb9M8C0bt",
        "colab_type": "code",
        "colab": {
          "base_uri": "https://localhost:8080/",
          "height": 699
        },
        "outputId": "7f3d514b-6433-4072-8a36-e880337a035f"
      },
      "source": [
        "print(trainX.ndim)\n",
        "print(trainX[0,:])\n",
        "print(np.shape(trainY))\n",
        "print(trainY)\n",
        "print(np.shape(testX))\n",
        "print(testY)"
      ],
      "execution_count": 88,
      "outputs": [
        {
          "output_type": "stream",
          "text": [
            "2\n",
            "[-0.377055 -0.026934  3.025814 -0.364691  0.284957  3.028073 -0.349564\n",
            "  0.588605  3.016449 -0.39029   0.717986  3.066255 -0.459398  0.4716\n",
            "  3.055662 -0.483041  0.212356  2.976422 -0.503434 -0.013853  2.942299\n",
            " -0.479137 -0.064604  2.963459 -0.223132  0.482646  2.885534 -0.185799\n",
            "  0.704586  2.742377 -0.254011  0.904521  2.701125 -0.248729  0.992251\n",
            "  2.728316 -0.426401 -0.024353  3.027745 -0.40287  -0.466718  3.048902\n",
            " -0.360825 -0.825134  3.050612 -0.399207 -0.898123  2.960589 -0.317576\n",
            " -0.029164  2.950459 -0.246061 -0.504655  2.928659 -0.178083 -0.850512\n",
            "  2.93332  -0.195286 -0.907308  2.842401 -0.353758  0.513552  3.022216\n",
            " -0.47695  -0.169477  2.96121  -0.513335 -0.095053  2.969337 -0.224274\n",
            "  1.071196  2.742483 -0.202519  1.014843  2.684111  0.        0.\n",
            "  0.        0.        0.        0.        0.        0.        0.\n",
            "  0.        0.        0.        0.        0.        0.        0.\n",
            "  0.        0.        0.        0.        0.        0.        0.\n",
            "  0.        0.        0.        0.        0.        0.        0.\n",
            "  0.        0.        0.        0.        0.        0.        0.\n",
            "  0.        0.        0.        0.        0.        0.        0.\n",
            "  0.        0.        0.        0.        0.        0.        0.\n",
            "  0.        0.        0.        0.        0.        0.        0.\n",
            "  0.        0.        0.        0.        0.        0.        0.\n",
            "  0.        0.        0.        0.        0.        0.        0.\n",
            "  0.        0.        0.      ]\n",
            "(1964711, 51)\n",
            "[[0. 0. 0. ... 0. 0. 0.]\n",
            " [0. 0. 0. ... 0. 0. 1.]\n",
            " [0. 0. 0. ... 0. 0. 0.]\n",
            " ...\n",
            " [0. 0. 0. ... 0. 0. 0.]\n",
            " [0. 0. 0. ... 0. 0. 0.]\n",
            " [0. 0. 0. ... 0. 0. 0.]]\n",
            "(491178, 150)\n",
            "[[0. 0. 0. ... 0. 0. 0.]\n",
            " [0. 0. 0. ... 0. 0. 0.]\n",
            " [0. 0. 0. ... 0. 0. 0.]\n",
            " ...\n",
            " [0. 0. 0. ... 0. 0. 0.]\n",
            " [0. 0. 0. ... 0. 0. 0.]\n",
            " [0. 0. 0. ... 0. 0. 0.]]\n"
          ],
          "name": "stdout"
        }
      ]
    },
    {
      "cell_type": "code",
      "metadata": {
        "id": "W97O3X4JDRAk",
        "colab_type": "code",
        "colab": {
          "base_uri": "https://localhost:8080/",
          "height": 297
        },
        "outputId": "4a41f954-74d6-444d-ac2e-0df71229d81c"
      },
      "source": [
        "model = Sequential()\n",
        "# model.add(Conv2D(input_shape=(50,3,1),kernel_size=(3,3),filters=20,activation='relu'))\n",
        "# model.add(MaxPooling2D(pool_size=(2,2),strides=2,padding='same'))\n",
        "# model.add(Conv2D(kernel_size=(3,3), filters=50,  activation='relu', padding='same'))\n",
        "# model.add(MaxPooling2D(pool_size=(2,2), strides=2, padding='same'))\n",
        "# model.add(Flatten())\n",
        "model.add(Dense(1024,input_dim=150, activation='relu'))\n",
        "#model.add(BatchNormalization())\n",
        "model.add(Dense(1024, activation='relu'))\n",
        "#model.add(BatchNormalization())\n",
        "model.add(Dense(1024, activation='relu'))\n",
        "model.add(Dense(51, activation='softmax'))\n",
        "model.summary()"
      ],
      "execution_count": 89,
      "outputs": [
        {
          "output_type": "stream",
          "text": [
            "Model: \"sequential_14\"\n",
            "_________________________________________________________________\n",
            "Layer (type)                 Output Shape              Param #   \n",
            "=================================================================\n",
            "dense_35 (Dense)             (None, 1024)              154624    \n",
            "_________________________________________________________________\n",
            "dense_36 (Dense)             (None, 1024)              1049600   \n",
            "_________________________________________________________________\n",
            "dense_37 (Dense)             (None, 1024)              1049600   \n",
            "_________________________________________________________________\n",
            "dense_38 (Dense)             (None, 51)                52275     \n",
            "=================================================================\n",
            "Total params: 2,306,099\n",
            "Trainable params: 2,306,099\n",
            "Non-trainable params: 0\n",
            "_________________________________________________________________\n"
          ],
          "name": "stdout"
        }
      ]
    },
    {
      "cell_type": "code",
      "metadata": {
        "id": "IVFDJ_laFe_R",
        "colab_type": "code",
        "colab": {
          "base_uri": "https://localhost:8080/",
          "height": 209
        },
        "outputId": "8dd6d245-4083-49fd-ae0a-863fc39a211b"
      },
      "source": [
        "model.compile(loss = \"binary_crossentropy\", optimizer = \"adam\", metrics = [\"accuracy\"])\n",
        "\n",
        "H = model.fit(trainX, trainY, validation_data = (testX, testY),\n",
        "              batch_size = 64, epochs = 5, verbose = 1)  #verbose = 1显示进度条"
      ],
      "execution_count": 90,
      "outputs": [
        {
          "output_type": "stream",
          "text": [
            "Train on 1964711 samples, validate on 491178 samples\n",
            "Epoch 1/5\n",
            "1964711/1964711 [==============================] - 271s 138us/step - loss: 0.0444 - acc: 0.9854 - val_loss: 0.0365 - val_acc: 0.9876\n",
            "Epoch 2/5\n",
            "1964711/1964711 [==============================] - 269s 137us/step - loss: 0.0332 - acc: 0.9887 - val_loss: 0.0315 - val_acc: 0.9893\n",
            "Epoch 3/5\n",
            "1964711/1964711 [==============================] - 266s 135us/step - loss: 0.0295 - acc: 0.9900 - val_loss: 0.0289 - val_acc: 0.9903\n",
            "Epoch 4/5\n",
            "1964711/1964711 [==============================] - 262s 133us/step - loss: 0.0274 - acc: 0.9907 - val_loss: 0.0269 - val_acc: 0.9910\n",
            "Epoch 5/5\n",
            "1964711/1964711 [==============================] - 262s 133us/step - loss: 0.0260 - acc: 0.9912 - val_loss: 0.0256 - val_acc: 0.9914\n"
          ],
          "name": "stdout"
        }
      ]
    },
    {
      "cell_type": "code",
      "metadata": {
        "id": "O-VPURf7OGZD",
        "colab_type": "code",
        "colab": {
          "base_uri": "https://localhost:8080/",
          "height": 1000
        },
        "outputId": "1ab302f0-5194-4d07-b6c0-8986e74a3a76"
      },
      "source": [
        "predictions = model.predict(testX, batch_size = 64)\n",
        "print(np.shape(predictions))\n",
        "print(predictions.argmax(axis =1))\n",
        "print(testY.argmax(axis = 1))\n",
        "leclass = [str(i) for i in le.classes_]\n",
        "print(leclass)\n",
        "print(classification_report(testY.argmax(axis = 1), predictions.argmax(axis = 1),\n",
        "                           target_names = leclass))"
      ],
      "execution_count": 91,
      "outputs": [
        {
          "output_type": "stream",
          "text": [
            "(491178, 51)\n",
            "[14  1 22 ... 40 28 37]\n",
            "[14 46 22 ... 40 37 42]\n",
            "['1', '2', '3', '4', '5', '6', '7', '8', '9', '10', '11', '12', '13', '14', '15', '16', '17', '18', '19', '20', '21', '22', '23', '24', '25', '26', '27', '28', '29', '30', '31', '32', '33', '34', '35', '36', '37', '38', '39', '40', '41', '42', '43', '44', '45', '46', '47', '48', '49', '50', '51']\n",
            "              precision    recall  f1-score   support\n",
            "\n",
            "           1       0.80      0.69      0.74      4639\n",
            "           2       0.75      0.66      0.70     16495\n",
            "           3       0.77      0.75      0.76     14890\n",
            "           4       0.85      0.77      0.81      8462\n",
            "           5       0.87      0.84      0.86      7663\n",
            "           6       0.69      0.63      0.66      7945\n",
            "           7       0.87      0.85      0.86      7828\n",
            "           8       0.75      0.66      0.70     13519\n",
            "           9       0.91      0.78      0.84      3540\n",
            "          10       0.81      0.83      0.82     17856\n",
            "          11       0.94      0.83      0.88      3085\n",
            "          12       0.93      0.77      0.84      5164\n",
            "          13       0.76      0.69      0.72      9976\n",
            "          14       0.64      0.81      0.72      4338\n",
            "          15       0.61      0.76      0.68      8738\n",
            "          16       0.66      0.77      0.71      4787\n",
            "          17       0.43      0.71      0.54      9946\n",
            "          18       0.54      0.83      0.66      1997\n",
            "          19       0.64      0.55      0.59      6050\n",
            "          20       0.85      0.85      0.85     12402\n",
            "          21       0.90      0.74      0.81      3324\n",
            "          22       0.81      0.67      0.73      9527\n",
            "          23       0.82      0.87      0.84     16773\n",
            "          24       0.93      0.70      0.80      3261\n",
            "          25       0.73      0.69      0.71      9293\n",
            "          26       0.67      0.65      0.66      2974\n",
            "          27       0.83      0.70      0.76      2800\n",
            "          28       0.69      0.53      0.60     10411\n",
            "          29       0.61      0.59      0.60     11013\n",
            "          30       0.75      0.86      0.80     21230\n",
            "          31       0.60      0.69      0.64     10116\n",
            "          32       0.57      0.75      0.65      6667\n",
            "          33       0.84      0.88      0.86      3948\n",
            "          34       0.76      0.61      0.68      2499\n",
            "          35       0.61      0.42      0.50      7449\n",
            "          36       0.52      0.36      0.43      6506\n",
            "          37       0.76      0.66      0.70     14503\n",
            "          38       0.50      0.65      0.57     11078\n",
            "          39       0.91      0.82      0.86     10444\n",
            "          40       0.75      0.72      0.73     14646\n",
            "          41       0.60      0.51      0.55      6588\n",
            "          42       0.88      0.80      0.84     12097\n",
            "          43       0.81      0.82      0.82     12453\n",
            "          44       0.75      0.75      0.75     12085\n",
            "          45       0.83      0.79      0.81     13393\n",
            "          46       0.90      0.94      0.92     10402\n",
            "          47       0.71      0.71      0.71     14004\n",
            "          48       0.67      0.84      0.75     24262\n",
            "          49       0.57      0.56      0.57      7895\n",
            "          50       0.75      0.74      0.75     14521\n",
            "          51       0.95      0.91      0.93     15696\n",
            "\n",
            "    accuracy                           0.74    491178\n",
            "   macro avg       0.75      0.72      0.73    491178\n",
            "weighted avg       0.75      0.74      0.74    491178\n",
            "\n"
          ],
          "name": "stdout"
        }
      ]
    },
    {
      "cell_type": "code",
      "metadata": {
        "id": "3ydGl5jqa4ge",
        "colab_type": "code",
        "colab": {}
      },
      "source": [
        "model.save(\"/content/drive/My Drive/data_sk/sk_linear5.hdf5\")"
      ],
      "execution_count": 0,
      "outputs": []
    },
    {
      "cell_type": "code",
      "metadata": {
        "id": "YhTBS9d-Ox2G",
        "colab_type": "code",
        "colab": {
          "base_uri": "https://localhost:8080/",
          "height": 299
        },
        "outputId": "57d7ae6d-d0f6-4d1b-d61e-1493d22b404c"
      },
      "source": [
        "plt.style.use(\"ggplot\")\n",
        "plt.figure()\n",
        "plt.plot(np.arange(0, 5), H.history[\"loss\"], label = \"train_loss\")\n",
        "plt.plot(np.arange(0, 5), H.history[\"val_loss\"], label = \"val_loss\")\n",
        "plt.plot(np.arange(0, 5), H.history[\"acc\"], label = \"acc\")\n",
        "plt.plot(np.arange(0, 5), H.history[\"val_acc\"], label = \"val_acc\")\n",
        "plt.title(\"Training Loss and Accuracy\")\n",
        "plt.xlabel(\"Epoch\")\n",
        "plt.ylabel(\"Loss/Accuracy\")\n",
        "plt.legend()\n",
        "plt.show()"
      ],
      "execution_count": 98,
      "outputs": [
        {
          "output_type": "display_data",
          "data": {
            "image/png": "[encoded data removed]",
            "text/plain": [
              "<Figure size 432x288 with 1 Axes>"
            ]
          },
          "metadata": {
            "tags": []
          }
        }
      ]
    }
  ]
}