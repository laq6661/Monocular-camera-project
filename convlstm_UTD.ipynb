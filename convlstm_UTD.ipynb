{
 "cells": [
  {
   "cell_type": "code",
   "execution_count": 1,
   "metadata": {
    "colab": {},
    "colab_type": "code",
    "id": "66nbvWBpFsqG"
   },
   "outputs": [],
   "source": [
    "import os\n",
    "os.environ[\"CUDA_DEVICE_ORDER\"]=\"PCI_BUS_ID\"\n",
    "# The GPU id to use, usually either \"0\" or \"1\"\n",
    "os.environ[\"CUDA_VISIBLE_DEVICES\"] = \"0\"   "
   ]
  },
  {
   "cell_type": "code",
   "execution_count": 2,
   "metadata": {
    "colab": {
     "base_uri": "https://localhost:8080/",
     "height": 35
    },
    "colab_type": "code",
    "id": "A0ofaTiD-bqy",
    "outputId": "58cd4917-b771-450a-dc80-d907ccc3eb61"
   },
   "outputs": [
    {
     "name": "stderr",
     "output_type": "stream",
     "text": [
      "Using TensorFlow backend.\n"
     ]
    }
   ],
   "source": [
    "from sklearn.preprocessing import LabelEncoder\n",
    "from sklearn.model_selection import train_test_split\n",
    "from sklearn.metrics import classification_report\n",
    "from keras.preprocessing.image import img_to_array\n",
    "from keras.utils import np_utils\n",
    "from tensorflow.keras import backend\n",
    "from imutils import paths\n",
    "import matplotlib.pyplot as plt\n",
    "import numpy as np\n",
    "import imutils\n",
    "import cv2\n",
    "import tensorflow as tf\n",
    "from tensorflow.keras import layers\n",
    "from keras.layers import Dropout\n",
    "from keras.layers import LSTM\n",
    "from keras.models import Sequential\n",
    "from keras.layers.convolutional import Conv1D\n",
    "from keras.layers.convolutional import Conv2D\n",
    "from keras.layers.convolutional import MaxPooling1D,MaxPooling3D\n",
    "from keras.layers import Convolution2D, ConvLSTM2D, MaxPooling2D, UpSampling2D\n",
    "from keras.layers.normalization import BatchNormalization\n",
    "from keras.layers.core import Activation\n",
    "from keras.layers.core import Activation\n",
    "from keras.layers.core import Flatten\n",
    "from keras.layers.core import Dense\n",
    "from keras.models import load_model"
   ]
  },
  {
   "cell_type": "code",
   "execution_count": 3,
   "metadata": {
    "colab": {
     "base_uri": "https://localhost:8080/",
     "height": 35
    },
    "colab_type": "code",
    "id": "GgGqMVqUBzl3",
    "outputId": "3140105c-52bb-4462-d7e9-358985f83122"
   },
   "outputs": [
    {
     "name": "stdout",
     "output_type": "stream",
     "text": [
      "(9073, 3, 20, 3, 1)\n"
     ]
    }
   ],
   "source": [
    "trainX = np.load('H:/LI project/3d sk detect/UTD-MHAD/sk_UTD1234_trainx.npy')\n",
    "trainX = trainX.reshape(-1,3,20,3,1)\n",
    "print(np.shape(trainX))"
   ]
  },
  {
   "cell_type": "code",
   "execution_count": 4,
   "metadata": {},
   "outputs": [
    {
     "name": "stdout",
     "output_type": "stream",
     "text": [
      "(10073, 3, 20, 3, 1)\n"
     ]
    }
   ],
   "source": [
    "testX = np.load('H:/LI project/3d sk detect/UTD-MHAD/sk_UTD1234_testx.npy')\n",
    "testX = testX.reshape(-1,3,20,3,1)\n",
    "print(np.shape(testX))"
   ]
  },
  {
   "cell_type": "code",
   "execution_count": 5,
   "metadata": {},
   "outputs": [
    {
     "name": "stdout",
     "output_type": "stream",
     "text": [
      "['a10' 'a10' 'a10' 'a10' 'a10']\n",
      "(9073,)\n"
     ]
    }
   ],
   "source": [
    "trainY=np.load('H:/LI project/3d sk detect/UTD-MHAD/sk_UTD1234_trainy.npy')\n",
    "print(trainY[0:5])\n",
    "print(np.shape(trainY))"
   ]
  },
  {
   "cell_type": "code",
   "execution_count": 6,
   "metadata": {
    "colab": {
     "base_uri": "https://localhost:8080/",
     "height": 52
    },
    "colab_type": "code",
    "id": "qF2EHaHMB51N",
    "outputId": "c3d35a96-8d6c-4d40-9af0-57a440e4bbf6"
   },
   "outputs": [
    {
     "name": "stdout",
     "output_type": "stream",
     "text": [
      "['a10' 'a10' 'a10' 'a10' 'a10']\n",
      "(10073,)\n"
     ]
    }
   ],
   "source": [
    "testY=np.load('H:/LI project/3d sk detect/UTD-MHAD/sk_UTD1234_testy.npy')\n",
    "print(testY[0:5])\n",
    "print(np.shape(testY))"
   ]
  },
  {
   "cell_type": "code",
   "execution_count": 7,
   "metadata": {
    "colab": {},
    "colab_type": "code",
    "id": "x3NhH7x0B7wV"
   },
   "outputs": [],
   "source": [
    "trainX = np.array(trainX)\n",
    "trainY = np.array(trainY)\n",
    "testX = np.array(testX)\n",
    "testY = np.array(testY)"
   ]
  },
  {
   "cell_type": "code",
   "execution_count": 8,
   "metadata": {},
   "outputs": [],
   "source": [
    "index = [i for i in range(len(trainX))]  \n",
    "np.random.seed(42)\n",
    "np.random.shuffle(index) \n",
    "trainX = trainX[index]\n",
    "trainY = trainY[index]"
   ]
  },
  {
   "cell_type": "code",
   "execution_count": 9,
   "metadata": {},
   "outputs": [],
   "source": [
    "index2 = [i for i in range(len(testX))] \n",
    "np.random.seed(42)\n",
    "np.random.shuffle(index2) \n",
    "testX = testX[index2]\n",
    "testY = testY[index2]"
   ]
  },
  {
   "cell_type": "code",
   "execution_count": 10,
   "metadata": {
    "colab": {
     "base_uri": "https://localhost:8080/",
     "height": 52
    },
    "colab_type": "code",
    "id": "trkTPyKyB9hd",
    "outputId": "8df288be-b7d4-4958-d117-ffdf7a2431ca"
   },
   "outputs": [
    {
     "name": "stdout",
     "output_type": "stream",
     "text": [
      "['a1', 'a10', 'a11', 'a12', 'a13', 'a14', 'a15', 'a16', 'a17', 'a18', 'a19', 'a2', 'a20', 'a21', 'a22', 'a23', 'a24', 'a25', 'a26', 'a27', 'a3', 'a4', 'a5', 'a6', 'a7', 'a8', 'a9']\n",
      "['a11' 'a18' 'a23' 'a25' 'a24']\n",
      "[[0. 0. 1. 0. 0. 0. 0. 0. 0. 0. 0. 0. 0. 0. 0. 0. 0. 0. 0. 0. 0. 0. 0. 0.\n",
      "  0. 0. 0.]\n",
      " [0. 0. 0. 0. 0. 0. 0. 0. 0. 1. 0. 0. 0. 0. 0. 0. 0. 0. 0. 0. 0. 0. 0. 0.\n",
      "  0. 0. 0.]\n",
      " [0. 0. 0. 0. 0. 0. 0. 0. 0. 0. 0. 0. 0. 0. 0. 1. 0. 0. 0. 0. 0. 0. 0. 0.\n",
      "  0. 0. 0.]\n",
      " [0. 0. 0. 0. 0. 0. 0. 0. 0. 0. 0. 0. 0. 0. 0. 0. 0. 1. 0. 0. 0. 0. 0. 0.\n",
      "  0. 0. 0.]\n",
      " [0. 0. 0. 0. 0. 0. 0. 0. 0. 0. 0. 0. 0. 0. 0. 0. 1. 0. 0. 0. 0. 0. 0. 0.\n",
      "  0. 0. 0.]]\n"
     ]
    }
   ],
   "source": [
    "le = LabelEncoder().fit(trainY)   # LabelEncoder可以将标签分配一个0—n_classes-1之间的编码 \n",
    "print(list(le.classes_))\n",
    "print(trainY[0:5])\n",
    "trainY = np_utils.to_categorical(le.transform(trainY), 27)  # 2是num_class表示输出的是2列数据的意思\n",
    "print(trainY[0:5])"
   ]
  },
  {
   "cell_type": "code",
   "execution_count": 11,
   "metadata": {},
   "outputs": [
    {
     "name": "stdout",
     "output_type": "stream",
     "text": [
      "['a1', 'a10', 'a11', 'a12', 'a13', 'a14', 'a15', 'a16', 'a17', 'a18', 'a19', 'a2', 'a20', 'a21', 'a22', 'a23', 'a24', 'a25', 'a26', 'a27', 'a3', 'a4', 'a5', 'a6', 'a7', 'a8', 'a9']\n",
      "['a6' 'a10' 'a9' 'a12' 'a10']\n",
      "[[0. 0. 0. 0. 0. 0. 0. 0. 0. 0. 0. 0. 0. 0. 0. 0. 0. 0. 0. 0. 0. 0. 0. 1.\n",
      "  0. 0. 0.]\n",
      " [0. 1. 0. 0. 0. 0. 0. 0. 0. 0. 0. 0. 0. 0. 0. 0. 0. 0. 0. 0. 0. 0. 0. 0.\n",
      "  0. 0. 0.]\n",
      " [0. 0. 0. 0. 0. 0. 0. 0. 0. 0. 0. 0. 0. 0. 0. 0. 0. 0. 0. 0. 0. 0. 0. 0.\n",
      "  0. 0. 1.]\n",
      " [0. 0. 0. 1. 0. 0. 0. 0. 0. 0. 0. 0. 0. 0. 0. 0. 0. 0. 0. 0. 0. 0. 0. 0.\n",
      "  0. 0. 0.]\n",
      " [0. 1. 0. 0. 0. 0. 0. 0. 0. 0. 0. 0. 0. 0. 0. 0. 0. 0. 0. 0. 0. 0. 0. 0.\n",
      "  0. 0. 0.]]\n"
     ]
    }
   ],
   "source": [
    "# le2 = LabelEncoder().fit(testY)   # LabelEncoder可以将标签分配一个0—n_classes-1之间的编码 \n",
    "# print(testY)\n",
    "print(list(le.classes_))\n",
    "print(testY[0:5])\n",
    "testY = np_utils.to_categorical(le.transform(testY), 27)  # 2是num_class表示输出的是2列数据的意思\n",
    "print(testY[0:5])"
   ]
  },
  {
   "cell_type": "code",
   "execution_count": 12,
   "metadata": {
    "colab": {
     "base_uri": "https://localhost:8080/",
     "height": 1000
    },
    "colab_type": "code",
    "id": "0zarFi-oCAy1",
    "outputId": "0741fd4a-af63-40cf-c414-d26974ef0acc"
   },
   "outputs": [
    {
     "name": "stdout",
     "output_type": "stream",
     "text": [
      "[[[[-1.28283188e-01]\n",
      "   [ 4.99460369e-01]\n",
      "   [ 2.91973400e+00]]\n",
      "\n",
      "  [[-1.23494588e-01]\n",
      "   [ 3.15305948e-01]\n",
      "   [ 2.95397687e+00]]\n",
      "\n",
      "  [[-1.06745847e-01]\n",
      "   [-3.48100103e-02]\n",
      "   [ 2.95866585e+00]]\n",
      "\n",
      "  [[-9.68707725e-02]\n",
      "   [-9.61137712e-02]\n",
      "   [ 2.90571880e+00]]\n",
      "\n",
      "  [[-2.79249340e-01]\n",
      "   [ 1.94479212e-01]\n",
      "   [ 2.92104793e+00]]\n",
      "\n",
      "  [[-3.10397536e-01]\n",
      "   [-7.59423897e-02]\n",
      "   [ 2.87075448e+00]]\n",
      "\n",
      "  [[-2.96790272e-01]\n",
      "   [-2.97903270e-01]\n",
      "   [ 2.83054590e+00]]\n",
      "\n",
      "  [[-2.77715772e-01]\n",
      "   [-3.62904131e-01]\n",
      "   [ 2.82444715e+00]]\n",
      "\n",
      "  [[ 5.20218872e-02]\n",
      "   [ 2.05420479e-01]\n",
      "   [ 2.96250033e+00]]\n",
      "\n",
      "  [[ 1.61389515e-01]\n",
      "   [ 3.88560034e-02]\n",
      "   [ 2.88181734e+00]]\n",
      "\n",
      "  [[ 2.41897255e-01]\n",
      "   [ 1.30606815e-01]\n",
      "   [ 2.63154864e+00]]\n",
      "\n",
      "  [[ 2.33825266e-01]\n",
      "   [ 1.44887835e-01]\n",
      "   [ 2.59717035e+00]]\n",
      "\n",
      "  [[-1.66659564e-01]\n",
      "   [-1.74090251e-01]\n",
      "   [ 2.87918830e+00]]\n",
      "\n",
      "  [[-1.73245728e-01]\n",
      "   [-6.31246626e-01]\n",
      "   [ 2.97683001e+00]]\n",
      "\n",
      "  [[-1.41321436e-01]\n",
      "   [-9.96384263e-01]\n",
      "   [ 3.01955414e+00]]\n",
      "\n",
      "  [[-1.74550697e-01]\n",
      "   [-1.06969404e+00]\n",
      "   [ 2.99781084e+00]]\n",
      "\n",
      "  [[-1.74119622e-02]\n",
      "   [-1.68616638e-01]\n",
      "   [ 2.91064787e+00]]\n",
      "\n",
      "  [[-1.25199812e-03]\n",
      "   [-6.16650403e-01]\n",
      "   [ 2.97821307e+00]]\n",
      "\n",
      "  [[-2.63715684e-02]\n",
      "   [-9.91322339e-01]\n",
      "   [ 3.03291321e+00]]\n",
      "\n",
      "  [[ 8.19277205e-03]\n",
      "   [-1.06153560e+00]\n",
      "   [ 3.02299738e+00]]]\n",
      "\n",
      "\n",
      " [[[-1.29075572e-01]\n",
      "   [ 5.00823975e-01]\n",
      "   [ 2.92022586e+00]]\n",
      "\n",
      "  [[-1.23668373e-01]\n",
      "   [ 3.15880001e-01]\n",
      "   [ 2.95520806e+00]]\n",
      "\n",
      "  [[-1.07066825e-01]\n",
      "   [-3.43417898e-02]\n",
      "   [ 2.95995164e+00]]\n",
      "\n",
      "  [[-9.73353311e-02]\n",
      "   [-9.55980495e-02]\n",
      "   [ 2.90696645e+00]]\n",
      "\n",
      "  [[-2.79776841e-01]\n",
      "   [ 1.94312960e-01]\n",
      "   [ 2.92178154e+00]]\n",
      "\n",
      "  [[-3.10784549e-01]\n",
      "   [-7.58241639e-02]\n",
      "   [ 2.87110138e+00]]\n",
      "\n",
      "  [[-2.97570378e-01]\n",
      "   [-2.97731012e-01]\n",
      "   [ 2.83081365e+00]]\n",
      "\n",
      "  [[-2.78494924e-01]\n",
      "   [-3.59598041e-01]\n",
      "   [ 2.82478476e+00]]\n",
      "\n",
      "  [[ 5.17266616e-02]\n",
      "   [ 2.06282929e-01]\n",
      "   [ 2.96257544e+00]]\n",
      "\n",
      "  [[ 1.91962823e-01]\n",
      "   [ 9.60311145e-02]\n",
      "   [ 2.81617713e+00]]\n",
      "\n",
      "  [[ 2.33173966e-01]\n",
      "   [ 2.45290428e-01]\n",
      "   [ 2.57937646e+00]]\n",
      "\n",
      "  [[ 2.09607393e-01]\n",
      "   [ 2.55784333e-01]\n",
      "   [ 2.58121204e+00]]\n",
      "\n",
      "  [[-1.67223826e-01]\n",
      "   [-1.73697382e-01]\n",
      "   [ 2.88021755e+00]]\n",
      "\n",
      "  [[-1.73645124e-01]\n",
      "   [-6.31020606e-01]\n",
      "   [ 2.97718930e+00]]\n",
      "\n",
      "  [[-1.41309485e-01]\n",
      "   [-9.96316969e-01]\n",
      "   [ 3.01951075e+00]]\n",
      "\n",
      "  [[-1.74366027e-01]\n",
      "   [-1.06984520e+00]\n",
      "   [ 2.99817872e+00]]\n",
      "\n",
      "  [[-1.78616382e-02]\n",
      "   [-1.68189332e-01]\n",
      "   [ 2.91188645e+00]]\n",
      "\n",
      "  [[-1.31449336e-03]\n",
      "   [-6.16373479e-01]\n",
      "   [ 2.97887325e+00]]\n",
      "\n",
      "  [[-2.64587868e-02]\n",
      "   [-9.91402984e-01]\n",
      "   [ 3.03300977e+00]]\n",
      "\n",
      "  [[ 1.00252843e-02]\n",
      "   [-1.06316173e+00]\n",
      "   [ 3.03151369e+00]]]\n",
      "\n",
      "\n",
      " [[[-1.29719570e-01]\n",
      "   [ 5.01703084e-01]\n",
      "   [ 2.92067671e+00]]\n",
      "\n",
      "  [[-1.23918906e-01]\n",
      "   [ 3.16438168e-01]\n",
      "   [ 2.95631075e+00]]\n",
      "\n",
      "  [[-1.07342385e-01]\n",
      "   [-3.38332504e-02]\n",
      "   [ 2.96113443e+00]]\n",
      "\n",
      "  [[-9.78897810e-02]\n",
      "   [-9.50342566e-02]\n",
      "   [ 2.90813541e+00]]\n",
      "\n",
      "  [[-2.80682594e-01]\n",
      "   [ 1.94084376e-01]\n",
      "   [ 2.92286491e+00]]\n",
      "\n",
      "  [[-3.11265618e-01]\n",
      "   [-7.56838173e-02]\n",
      "   [ 2.87151694e+00]]\n",
      "\n",
      "  [[-2.98535585e-01]\n",
      "   [-2.97517329e-01]\n",
      "   [ 2.83102632e+00]]\n",
      "\n",
      "  [[-2.79155165e-01]\n",
      "   [-3.56720150e-01]\n",
      "   [ 2.82498336e+00]]\n",
      "\n",
      "  [[ 5.12717515e-02]\n",
      "   [ 2.07907736e-01]\n",
      "   [ 2.96170592e+00]]\n",
      "\n",
      "  [[ 2.09573478e-01]\n",
      "   [ 1.53922230e-01]\n",
      "   [ 2.76311374e+00]]\n",
      "\n",
      "  [[ 2.05730528e-01]\n",
      "   [ 3.24562907e-01]\n",
      "   [ 2.57114601e+00]]\n",
      "\n",
      "  [[ 1.79469764e-01]\n",
      "   [ 4.00926948e-01]\n",
      "   [ 2.52024770e+00]]\n",
      "\n",
      "  [[-1.67962760e-01]\n",
      "   [-1.73251882e-01]\n",
      "   [ 2.88133073e+00]]\n",
      "\n",
      "  [[-1.74168035e-01]\n",
      "   [-6.30747199e-01]\n",
      "   [ 2.97764969e+00]]\n",
      "\n",
      "  [[-1.41257107e-01]\n",
      "   [-9.96068835e-01]\n",
      "   [ 3.01936269e+00]]\n",
      "\n",
      "  [[-1.73825860e-01]\n",
      "   [-1.06991971e+00]\n",
      "   [ 2.99840140e+00]]\n",
      "\n",
      "  [[-1.83074009e-02]\n",
      "   [-1.67770118e-01]\n",
      "   [ 2.91292024e+00]]\n",
      "\n",
      "  [[-1.40582130e-03]\n",
      "   [-6.15994275e-01]\n",
      "   [ 2.97933507e+00]]\n",
      "\n",
      "  [[-2.65559964e-02]\n",
      "   [-9.91470098e-01]\n",
      "   [ 3.03308439e+00]]\n",
      "\n",
      "  [[ 1.09944195e-02]\n",
      "   [-1.06390703e+00]\n",
      "   [ 3.03432941e+00]]]]\n",
      "(9073, 27)\n",
      "[[0. 0. 1. ... 0. 0. 0.]\n",
      " [0. 0. 0. ... 0. 0. 0.]\n",
      " [0. 0. 0. ... 0. 0. 0.]\n",
      " ...\n",
      " [0. 0. 0. ... 0. 0. 0.]\n",
      " [0. 0. 0. ... 0. 0. 0.]\n",
      " [0. 0. 0. ... 0. 0. 0.]]\n",
      "(10073, 3, 20, 3, 1)\n",
      "[[0. 0. 0. ... 0. 0. 0.]\n",
      " [0. 1. 0. ... 0. 0. 0.]\n",
      " [0. 0. 0. ... 0. 0. 1.]\n",
      " ...\n",
      " [0. 0. 0. ... 0. 0. 0.]\n",
      " [0. 0. 0. ... 0. 0. 0.]\n",
      " [0. 0. 0. ... 0. 0. 0.]]\n"
     ]
    }
   ],
   "source": [
    "\n",
    "print(trainX[0,:])\n",
    "print(np.shape(trainY))\n",
    "print(trainY)\n",
    "print(np.shape(testX))\n",
    "print(testY)"
   ]
  },
  {
   "cell_type": "code",
   "execution_count": 13,
   "metadata": {
    "colab": {
     "base_uri": "https://localhost:8080/",
     "height": 505
    },
    "colab_type": "code",
    "id": "Pyq59DIlCC3l",
    "outputId": "1866bc5f-3a7e-4c88-a3d6-7bb141be1f47"
   },
   "outputs": [
    {
     "name": "stdout",
     "output_type": "stream",
     "text": [
      "WARNING:tensorflow:From C:\\anconda\\lib\\site-packages\\tensorflow_core\\python\\ops\\resource_variable_ops.py:1630: calling BaseResourceVariable.__init__ (from tensorflow.python.ops.resource_variable_ops) with constraint is deprecated and will be removed in a future version.\n",
      "Instructions for updating:\n",
      "If using Keras pass *_constraint arguments to layers.\n",
      "Model: \"sequential\"\n",
      "_________________________________________________________________\n",
      "Layer (type)                 Output Shape              Param #   \n",
      "=================================================================\n",
      "conv_lst_m2d (ConvLSTM2D)    (None, 3, 20, 3, 60)      132000    \n",
      "_________________________________________________________________\n",
      "flatten (Flatten)            (None, 10800)             0         \n",
      "_________________________________________________________________\n",
      "dense (Dense)                (None, 1024)              11060224  \n",
      "_________________________________________________________________\n",
      "activation (Activation)      (None, 1024)              0         \n",
      "_________________________________________________________________\n",
      "dropout (Dropout)            (None, 1024)              0         \n",
      "_________________________________________________________________\n",
      "dense_1 (Dense)              (None, 512)               524800    \n",
      "_________________________________________________________________\n",
      "activation_1 (Activation)    (None, 512)               0         \n",
      "_________________________________________________________________\n",
      "dense_2 (Dense)              (None, 27)                13851     \n",
      "=================================================================\n",
      "Total params: 11,730,875\n",
      "Trainable params: 11,730,875\n",
      "Non-trainable params: 0\n",
      "_________________________________________________________________\n"
     ]
    }
   ],
   "source": [
    "model = tf.keras.Sequential()\n",
    "input_shape = (trainX.shape[1],trainX.shape[2],trainX.shape[3],trainX.shape[4])\n",
    "model.add(layers.ConvLSTM2D(kernel_size=(3,3), \n",
    "                            activation='relu', \n",
    "                            filters=60,\n",
    "                            padding='same',\n",
    "                            input_shape=input_shape,\n",
    "                            data_format = 'channels_last',\n",
    "                            return_sequences=True))\n",
    "#model.add(MaxPooling3D(pool_size = (3,50,3),strides = None,padding='same'))\n",
    "#model.add(ConvLSTM2D(50, kernel_size=(3, 3), activation='relu', padding='same',return_sequences=True))\n",
    "model.add(layers.Flatten())\n",
    "#model.add(layers.Dropout(rate=0.5))\n",
    "model.add(layers.Dense(1024))\n",
    "#model.add(layers.BatchNormalization())\n",
    "model.add(layers.Activation('relu'))\n",
    "model.add(layers.Dropout(rate=0.5))\n",
    "model.add(layers.Dense(512))\n",
    "#model.add(layers.BatchNormalization())\n",
    "model.add(layers.Activation('relu'))\n",
    "# model.add(layers.Dropout(rate=0.5))\n",
    "# model.add(layers.Dense(128))\n",
    "# #model.add(layers.BatchNormalization())\n",
    "# model.add(layers.Activation('relu'))\n",
    "model.add(layers.Dense(27, activation='softmax'))\n",
    "model.summary()"
   ]
  },
  {
   "cell_type": "code",
   "execution_count": 14,
   "metadata": {},
   "outputs": [],
   "source": [
    "ade = tf.keras.optimizers.Adadelta(lr=1.0, rho=0.95, epsilon=None, decay=0.0)\n",
    "nadam=tf.keras.optimizers.Nadam(lr=0.001, beta_1=0.9, beta_2=0.999, epsilon=None, schedule_decay=0.004)\n",
    "adam = tf.keras.optimizers.Adam(lr=0.001, beta_1=0.9, beta_2=0.999, epsilon=None, decay=0.0, amsgrad=False)"
   ]
  },
  {
   "cell_type": "code",
   "execution_count": 17,
   "metadata": {
    "colab": {
     "base_uri": "https://localhost:8080/",
     "height": 211
    },
    "colab_type": "code",
    "id": "Y4QZXjfLCExm",
    "outputId": "80ff9e47-1f2d-4602-bee1-d74142aeccc7"
   },
   "outputs": [
    {
     "name": "stdout",
     "output_type": "stream",
     "text": [
      "Train on 9073 samples, validate on 10073 samples\n",
      "Epoch 1/100\n",
      "9073/9073 [==============================] - 3s 292us/sample - loss: 0.0655 - acc: 0.9759 - val_loss: 0.2666 - val_acc: 0.9513\n",
      "Epoch 2/100\n",
      "9073/9073 [==============================] - 2s 248us/sample - loss: 0.0624 - acc: 0.9769 - val_loss: 0.2601 - val_acc: 0.9518\n",
      "Epoch 3/100\n",
      "9073/9073 [==============================] - 2s 248us/sample - loss: 0.0606 - acc: 0.9774 - val_loss: 0.2929 - val_acc: 0.9504\n",
      "Epoch 4/100\n",
      "9073/9073 [==============================] - 2s 248us/sample - loss: 0.0586 - acc: 0.9778 - val_loss: 0.2763 - val_acc: 0.9510\n",
      "Epoch 5/100\n",
      "9073/9073 [==============================] - 2s 246us/sample - loss: 0.0559 - acc: 0.9786 - val_loss: 0.3012 - val_acc: 0.9496\n",
      "Epoch 6/100\n",
      "9073/9073 [==============================] - 2s 246us/sample - loss: 0.0536 - acc: 0.9790 - val_loss: 0.3195 - val_acc: 0.9488\n",
      "Epoch 7/100\n",
      "9073/9073 [==============================] - 2s 248us/sample - loss: 0.0517 - acc: 0.9800 - val_loss: 0.3181 - val_acc: 0.9488\n",
      "Epoch 8/100\n",
      "9073/9073 [==============================] - 2s 248us/sample - loss: 0.0502 - acc: 0.9804 - val_loss: 0.3241 - val_acc: 0.9478\n",
      "Epoch 9/100\n",
      "9073/9073 [==============================] - 2s 247us/sample - loss: 0.0494 - acc: 0.9806 - val_loss: 0.3270 - val_acc: 0.9486\n",
      "Epoch 10/100\n",
      "9073/9073 [==============================] - 2s 250us/sample - loss: 0.0486 - acc: 0.9810 - val_loss: 0.3353 - val_acc: 0.9485\n",
      "Epoch 11/100\n",
      "9073/9073 [==============================] - 2s 249us/sample - loss: 0.0447 - acc: 0.9825 - val_loss: 0.3513 - val_acc: 0.9473\n",
      "Epoch 12/100\n",
      "9073/9073 [==============================] - 2s 248us/sample - loss: 0.0457 - acc: 0.9822 - val_loss: 0.3465 - val_acc: 0.9477\n",
      "Epoch 13/100\n",
      "9073/9073 [==============================] - 2s 248us/sample - loss: 0.0435 - acc: 0.9829 - val_loss: 0.3597 - val_acc: 0.9471\n",
      "Epoch 14/100\n",
      "9073/9073 [==============================] - 2s 249us/sample - loss: 0.0424 - acc: 0.9830 - val_loss: 0.3444 - val_acc: 0.9480\n",
      "Epoch 15/100\n",
      "9073/9073 [==============================] - 2s 248us/sample - loss: 0.0413 - acc: 0.9836 - val_loss: 0.3533 - val_acc: 0.9470\n",
      "Epoch 16/100\n",
      "9073/9073 [==============================] - 2s 249us/sample - loss: 0.0390 - acc: 0.9847 - val_loss: 0.3640 - val_acc: 0.9462\n",
      "Epoch 17/100\n",
      "9073/9073 [==============================] - 2s 249us/sample - loss: 0.0383 - acc: 0.9846 - val_loss: 0.3583 - val_acc: 0.9468\n",
      "Epoch 18/100\n",
      "9073/9073 [==============================] - 2s 250us/sample - loss: 0.0395 - acc: 0.9842 - val_loss: 0.3780 - val_acc: 0.9465\n",
      "Epoch 19/100\n",
      "9073/9073 [==============================] - 2s 248us/sample - loss: 0.0373 - acc: 0.9850 - val_loss: 0.3506 - val_acc: 0.9474\n",
      "Epoch 20/100\n",
      "9073/9073 [==============================] - 2s 249us/sample - loss: 0.0373 - acc: 0.9851 - val_loss: 0.3612 - val_acc: 0.9463\n",
      "Epoch 21/100\n",
      "9073/9073 [==============================] - 2s 248us/sample - loss: 0.0360 - acc: 0.9858 - val_loss: 0.3830 - val_acc: 0.9456\n",
      "Epoch 22/100\n",
      "9073/9073 [==============================] - 2s 250us/sample - loss: 0.0335 - acc: 0.9865 - val_loss: 0.3967 - val_acc: 0.9454\n",
      "Epoch 23/100\n",
      "9073/9073 [==============================] - 2s 249us/sample - loss: 0.0327 - acc: 0.9870 - val_loss: 0.4024 - val_acc: 0.9451\n",
      "Epoch 24/100\n",
      "9073/9073 [==============================] - 2s 250us/sample - loss: 0.0327 - acc: 0.9871 - val_loss: 0.3900 - val_acc: 0.9457\n",
      "Epoch 25/100\n",
      "9073/9073 [==============================] - 2s 255us/sample - loss: 0.0327 - acc: 0.9872 - val_loss: 0.3906 - val_acc: 0.9456\n",
      "Epoch 26/100\n",
      "9073/9073 [==============================] - 2s 252us/sample - loss: 0.0301 - acc: 0.9877 - val_loss: 0.3996 - val_acc: 0.9456\n",
      "Epoch 27/100\n",
      "9073/9073 [==============================] - 2s 250us/sample - loss: 0.0311 - acc: 0.9872 - val_loss: 0.3975 - val_acc: 0.9454\n",
      "Epoch 28/100\n",
      "9073/9073 [==============================] - 2s 250us/sample - loss: 0.0321 - acc: 0.9873 - val_loss: 0.3890 - val_acc: 0.9452\n",
      "Epoch 29/100\n",
      "9073/9073 [==============================] - 2s 252us/sample - loss: 0.0293 - acc: 0.9885 - val_loss: 0.4126 - val_acc: 0.9450\n",
      "Epoch 30/100\n",
      "9073/9073 [==============================] - 2s 250us/sample - loss: 0.0307 - acc: 0.9877 - val_loss: 0.3894 - val_acc: 0.9455\n",
      "Epoch 31/100\n",
      " 704/9073 [=>............................] - ETA: 1s - loss: 0.0269 - acc: 0.9890"
     ]
    },
    {
     "ename": "KeyboardInterrupt",
     "evalue": "",
     "output_type": "error",
     "traceback": [
      "\u001b[1;31m---------------------------------------------------------------------------\u001b[0m",
      "\u001b[1;31mKeyboardInterrupt\u001b[0m                         Traceback (most recent call last)",
      "\u001b[1;32m<ipython-input-17-fc7f5dbe1b3b>\u001b[0m in \u001b[0;36m<module>\u001b[1;34m\u001b[0m\n\u001b[0;32m      2\u001b[0m \u001b[1;33m\u001b[0m\u001b[0m\n\u001b[0;32m      3\u001b[0m H = model.fit(trainX, trainY, \n\u001b[1;32m----> 4\u001b[1;33m               batch_size = 64, epochs = 100, verbose = 1,validation_data=(testX, testY))  #verbose = 1显示进度条\n\u001b[0m",
      "\u001b[1;32mC:\\anconda\\lib\\site-packages\\tensorflow_core\\python\\keras\\engine\\training.py\u001b[0m in \u001b[0;36mfit\u001b[1;34m(self, x, y, batch_size, epochs, verbose, callbacks, validation_split, validation_data, shuffle, class_weight, sample_weight, initial_epoch, steps_per_epoch, validation_steps, validation_freq, max_queue_size, workers, use_multiprocessing, **kwargs)\u001b[0m\n\u001b[0;32m    725\u001b[0m         \u001b[0mmax_queue_size\u001b[0m\u001b[1;33m=\u001b[0m\u001b[0mmax_queue_size\u001b[0m\u001b[1;33m,\u001b[0m\u001b[1;33m\u001b[0m\u001b[1;33m\u001b[0m\u001b[0m\n\u001b[0;32m    726\u001b[0m         \u001b[0mworkers\u001b[0m\u001b[1;33m=\u001b[0m\u001b[0mworkers\u001b[0m\u001b[1;33m,\u001b[0m\u001b[1;33m\u001b[0m\u001b[1;33m\u001b[0m\u001b[0m\n\u001b[1;32m--> 727\u001b[1;33m         use_multiprocessing=use_multiprocessing)\n\u001b[0m\u001b[0;32m    728\u001b[0m \u001b[1;33m\u001b[0m\u001b[0m\n\u001b[0;32m    729\u001b[0m   def evaluate(self,\n",
      "\u001b[1;32mC:\\anconda\\lib\\site-packages\\tensorflow_core\\python\\keras\\engine\\training_arrays.py\u001b[0m in \u001b[0;36mfit\u001b[1;34m(self, model, x, y, batch_size, epochs, verbose, callbacks, validation_split, validation_data, shuffle, class_weight, sample_weight, initial_epoch, steps_per_epoch, validation_steps, validation_freq, **kwargs)\u001b[0m\n\u001b[0;32m    673\u001b[0m         \u001b[0mvalidation_steps\u001b[0m\u001b[1;33m=\u001b[0m\u001b[0mvalidation_steps\u001b[0m\u001b[1;33m,\u001b[0m\u001b[1;33m\u001b[0m\u001b[1;33m\u001b[0m\u001b[0m\n\u001b[0;32m    674\u001b[0m         \u001b[0mvalidation_freq\u001b[0m\u001b[1;33m=\u001b[0m\u001b[0mvalidation_freq\u001b[0m\u001b[1;33m,\u001b[0m\u001b[1;33m\u001b[0m\u001b[1;33m\u001b[0m\u001b[0m\n\u001b[1;32m--> 675\u001b[1;33m         steps_name='steps_per_epoch')\n\u001b[0m\u001b[0;32m    676\u001b[0m \u001b[1;33m\u001b[0m\u001b[0m\n\u001b[0;32m    677\u001b[0m   def evaluate(self,\n",
      "\u001b[1;32mC:\\anconda\\lib\\site-packages\\tensorflow_core\\python\\keras\\engine\\training_arrays.py\u001b[0m in \u001b[0;36mmodel_iteration\u001b[1;34m(model, inputs, targets, sample_weights, batch_size, epochs, verbose, callbacks, val_inputs, val_targets, val_sample_weights, shuffle, initial_epoch, steps_per_epoch, validation_steps, validation_freq, mode, validation_in_fit, prepared_feed_values_from_dataset, steps_name, **kwargs)\u001b[0m\n\u001b[0;32m    392\u001b[0m \u001b[1;33m\u001b[0m\u001b[0m\n\u001b[0;32m    393\u001b[0m         \u001b[1;31m# Get outputs.\u001b[0m\u001b[1;33m\u001b[0m\u001b[1;33m\u001b[0m\u001b[1;33m\u001b[0m\u001b[0m\n\u001b[1;32m--> 394\u001b[1;33m         \u001b[0mbatch_outs\u001b[0m \u001b[1;33m=\u001b[0m \u001b[0mf\u001b[0m\u001b[1;33m(\u001b[0m\u001b[0mins_batch\u001b[0m\u001b[1;33m)\u001b[0m\u001b[1;33m\u001b[0m\u001b[1;33m\u001b[0m\u001b[0m\n\u001b[0m\u001b[0;32m    395\u001b[0m         \u001b[1;32mif\u001b[0m \u001b[1;32mnot\u001b[0m \u001b[0misinstance\u001b[0m\u001b[1;33m(\u001b[0m\u001b[0mbatch_outs\u001b[0m\u001b[1;33m,\u001b[0m \u001b[0mlist\u001b[0m\u001b[1;33m)\u001b[0m\u001b[1;33m:\u001b[0m\u001b[1;33m\u001b[0m\u001b[1;33m\u001b[0m\u001b[0m\n\u001b[0;32m    396\u001b[0m           \u001b[0mbatch_outs\u001b[0m \u001b[1;33m=\u001b[0m \u001b[1;33m[\u001b[0m\u001b[0mbatch_outs\u001b[0m\u001b[1;33m]\u001b[0m\u001b[1;33m\u001b[0m\u001b[1;33m\u001b[0m\u001b[0m\n",
      "\u001b[1;32mC:\\anconda\\lib\\site-packages\\tensorflow_core\\python\\keras\\backend.py\u001b[0m in \u001b[0;36m__call__\u001b[1;34m(self, inputs)\u001b[0m\n\u001b[0;32m   3474\u001b[0m \u001b[1;33m\u001b[0m\u001b[0m\n\u001b[0;32m   3475\u001b[0m     fetched = self._callable_fn(*array_vals,\n\u001b[1;32m-> 3476\u001b[1;33m                                 run_metadata=self.run_metadata)\n\u001b[0m\u001b[0;32m   3477\u001b[0m     \u001b[0mself\u001b[0m\u001b[1;33m.\u001b[0m\u001b[0m_call_fetch_callbacks\u001b[0m\u001b[1;33m(\u001b[0m\u001b[0mfetched\u001b[0m\u001b[1;33m[\u001b[0m\u001b[1;33m-\u001b[0m\u001b[0mlen\u001b[0m\u001b[1;33m(\u001b[0m\u001b[0mself\u001b[0m\u001b[1;33m.\u001b[0m\u001b[0m_fetches\u001b[0m\u001b[1;33m)\u001b[0m\u001b[1;33m:\u001b[0m\u001b[1;33m]\u001b[0m\u001b[1;33m)\u001b[0m\u001b[1;33m\u001b[0m\u001b[1;33m\u001b[0m\u001b[0m\n\u001b[0;32m   3478\u001b[0m     output_structure = nest.pack_sequence_as(\n",
      "\u001b[1;32mC:\\anconda\\lib\\site-packages\\tensorflow_core\\python\\client\\session.py\u001b[0m in \u001b[0;36m__call__\u001b[1;34m(self, *args, **kwargs)\u001b[0m\n\u001b[0;32m   1470\u001b[0m         ret = tf_session.TF_SessionRunCallable(self._session._session,\n\u001b[0;32m   1471\u001b[0m                                                \u001b[0mself\u001b[0m\u001b[1;33m.\u001b[0m\u001b[0m_handle\u001b[0m\u001b[1;33m,\u001b[0m \u001b[0margs\u001b[0m\u001b[1;33m,\u001b[0m\u001b[1;33m\u001b[0m\u001b[1;33m\u001b[0m\u001b[0m\n\u001b[1;32m-> 1472\u001b[1;33m                                                run_metadata_ptr)\n\u001b[0m\u001b[0;32m   1473\u001b[0m         \u001b[1;32mif\u001b[0m \u001b[0mrun_metadata\u001b[0m\u001b[1;33m:\u001b[0m\u001b[1;33m\u001b[0m\u001b[1;33m\u001b[0m\u001b[0m\n\u001b[0;32m   1474\u001b[0m           \u001b[0mproto_data\u001b[0m \u001b[1;33m=\u001b[0m \u001b[0mtf_session\u001b[0m\u001b[1;33m.\u001b[0m\u001b[0mTF_GetBuffer\u001b[0m\u001b[1;33m(\u001b[0m\u001b[0mrun_metadata_ptr\u001b[0m\u001b[1;33m)\u001b[0m\u001b[1;33m\u001b[0m\u001b[1;33m\u001b[0m\u001b[0m\n",
      "\u001b[1;31mKeyboardInterrupt\u001b[0m: "
     ]
    }
   ],
   "source": [
    "model.compile(loss = \"binary_crossentropy\", optimizer = adam, metrics = [\"accuracy\"])\n",
    "\n",
    "H = model.fit(trainX, trainY, \n",
    "              batch_size = 64, epochs = 100, verbose = 1,validation_data=(testX, testY))  #verbose = 1显示进度条"
   ]
  },
  {
   "cell_type": "code",
   "execution_count": 25,
   "metadata": {},
   "outputs": [],
   "source": [
    "model = tf.keras.models.load_model(\"H:/LI project/3d sk detect/UTD-MHAD/convlstm_UTD2dr0.5_976.hdf5\")"
   ]
  },
  {
   "cell_type": "code",
   "execution_count": 18,
   "metadata": {
    "colab": {},
    "colab_type": "code",
    "id": "Er1xQ-blCHoG"
   },
   "outputs": [
    {
     "name": "stdout",
     "output_type": "stream",
     "text": [
      "(10073, 27)\n",
      "[23  1  8 ... 20 18 19]\n",
      "(10073,)\n",
      "['a1', 'a10', 'a11', 'a12', 'a13', 'a14', 'a15', 'a16', 'a17', 'a18', 'a19', 'a2', 'a20', 'a21', 'a22', 'a23', 'a24', 'a25', 'a26', 'a27', 'a3', 'a4', 'a5', 'a6', 'a7', 'a8', 'a9']\n",
      "              precision    recall  f1-score   support\n",
      "\n",
      "          a1      0.216     0.046     0.076       349\n",
      "         a10      0.351     0.215     0.267       404\n",
      "         a11      0.113     0.016     0.028       438\n",
      "         a12      0.374     0.526     0.437       397\n",
      "         a13      0.375     0.150     0.214       361\n",
      "         a14      0.308     0.444     0.363       394\n",
      "         a15      0.158     0.107     0.128       354\n",
      "         a16      0.108     0.032     0.050       341\n",
      "         a17      0.109     0.308     0.161       386\n",
      "         a18      0.168     0.151     0.159       358\n",
      "         a19      0.276     0.125     0.172       385\n",
      "          a2      0.012     0.021     0.015       326\n",
      "         a20      0.008     0.006     0.007       338\n",
      "         a21      0.367     0.240     0.290       512\n",
      "         a22      0.242     0.187     0.211       380\n",
      "         a23      0.084     0.431     0.141       376\n",
      "         a24      0.129     0.110     0.119       299\n",
      "         a25      0.371     0.427     0.397       293\n",
      "         a26      0.631     0.831     0.717       455\n",
      "         a27      0.394     0.350     0.371       454\n",
      "          a3      0.025     0.006     0.009       346\n",
      "          a4      0.138     0.049     0.073       344\n",
      "          a5      0.110     0.059     0.077       322\n",
      "          a6      0.398     0.280     0.329       350\n",
      "          a7      0.375     0.462     0.414       340\n",
      "          a8      0.207     0.204     0.206       362\n",
      "          a9      0.018     0.005     0.008       409\n",
      "\n",
      "    accuracy                          0.223     10073\n",
      "   macro avg      0.225     0.214     0.201     10073\n",
      "weighted avg      0.233     0.223     0.209     10073\n",
      "\n"
     ]
    }
   ],
   "source": [
    "predictions = model.predict(testX, batch_size = 64)\n",
    "print(np.shape(predictions))\n",
    "print(predictions.argmax(axis =1))\n",
    "print(testY.argmax(axis = 1).shape)\n",
    "leclass = [str(i) for i in le.classes_]\n",
    "print(leclass)\n",
    "print(classification_report(testY.argmax(axis = 1), predictions.argmax(axis = 1),\n",
    "                           target_names = leclass,digits=3))"
   ]
  },
  {
   "cell_type": "code",
   "execution_count": 17,
   "metadata": {},
   "outputs": [
    {
     "name": "stdout",
     "output_type": "stream",
     "text": [
      "dict_keys(['loss', 'accuracy', 'val_loss', 'val_accuracy'])\n"
     ]
    },
    {
     "data": {
      "image/png": "[encoded data removed]",
      "text/plain": [
       "<Figure size 432x288 with 1 Axes>"
      ]
     },
     "metadata": {},
     "output_type": "display_data"
    }
   ],
   "source": [
    "print(H.history.keys())\n",
    "plt.style.use(\"ggplot\")\n",
    "plt.figure()\n",
    "# plt.plot(np.arange(0, 200), H.history[\"loss\"], label = \"train_loss\")\n",
    "# plt.plot(np.arange(0, 200), H.history[\"val_loss\"], label = \"val_loss\")\n",
    "plt.plot(np.arange(0, 100), H.history[\"loss\"], label = \"train_loss\")\n",
    "plt.plot(np.arange(0, 100), H.history[\"val_loss\"], label = \"val_loss\")\n",
    "plt.title(\"Model loss\")\n",
    "plt.xlabel(\"Epoch\")\n",
    "plt.ylabel(\"Loss\")\n",
    "plt.legend(['train_loss','val_loss'],loc='upper right')\n",
    "plt.show()"
   ]
  },
  {
   "cell_type": "code",
   "execution_count": 15,
   "metadata": {},
   "outputs": [
    {
     "name": "stdout",
     "output_type": "stream",
     "text": [
      "dict_keys(['loss', 'accuracy', 'val_loss', 'val_accuracy'])\n"
     ]
    },
    {
     "data": {
      "image/png": "[encoded data removed]",
      "text/plain": [
       "<Figure size 432x288 with 1 Axes>"
      ]
     },
     "metadata": {},
     "output_type": "display_data"
    }
   ],
   "source": [
    "print(H.history.keys())\n",
    "plt.style.use(\"ggplot\")\n",
    "plt.figure()\n",
    "plt.plot(np.arange(0, 500), H.history[\"accuracy\"], label = \"acc\")\n",
    "plt.plot(np.arange(0, 500), H.history[\"val_accuracy\"], label = \"val_acc\")\n",
    "plt.title(\"Model acc\")\n",
    "plt.xlabel(\"Epoch\")\n",
    "plt.ylabel(\"acc\")\n",
    "plt.legend(['train_acc','val_acc'],loc='upper left')\n",
    "plt.show()"
   ]
  },
  {
   "cell_type": "code",
   "execution_count": 17,
   "metadata": {},
   "outputs": [
    {
     "name": "stdout",
     "output_type": "stream",
     "text": [
      "dict_keys(['loss', 'accuracy', 'val_loss', 'val_accuracy'])\n"
     ]
    },
    {
     "data": {
      "image/png": "[encoded data removed]",
      "text/plain": [
       "<Figure size 432x288 with 1 Axes>"
      ]
     },
     "metadata": {},
     "output_type": "display_data"
    }
   ],
   "source": [
    "print(H.history.keys())\n",
    "plt.figure()\n",
    "plt.plot(H.history[\"accuracy\"], label = \"acc\")\n",
    "plt.plot(H.history[\"val_accuracy\"], label = \"val_acc\")\n",
    "plt.title(\"Model acc\")\n",
    "plt.xlabel(\"Epoch\")\n",
    "plt.ylabel(\"acc\")\n",
    "plt.legend(['train','test'],loc='upper left')\n",
    "plt.show()"
   ]
  },
  {
   "cell_type": "code",
   "execution_count": 16,
   "metadata": {
    "colab": {},
    "colab_type": "code",
    "id": "9nkC0TuHCJh6"
   },
   "outputs": [],
   "source": [
    "model.save(\"H:/LI project/3d sk detect/UTD-MHAD/convlstm_UTD2dr0.5_976.hdf5\")"
   ]
  },
  {
   "cell_type": "code",
   "execution_count": null,
   "metadata": {},
   "outputs": [],
   "source": []
  }
 ],
 "metadata": {
  "accelerator": "GPU",
  "colab": {
   "name": "convlstm_local.ipynb",
   "provenance": []
  },
  "kernelspec": {
   "display_name": "Python 3",
   "language": "python",
   "name": "python3"
  },
  "language_info": {
   "codemirror_mode": {
    "name": "ipython",
    "version": 3
   },
   "file_extension": ".py",
   "mimetype": "text/x-python",
   "name": "python",
   "nbconvert_exporter": "python",
   "pygments_lexer": "ipython3",
   "version": "3.7.4"
  }
 },
 "nbformat": 4,
 "nbformat_minor": 1
}
