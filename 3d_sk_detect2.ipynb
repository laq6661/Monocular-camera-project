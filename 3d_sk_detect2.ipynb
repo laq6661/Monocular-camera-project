{
  "nbformat": 4,
  "nbformat_minor": 0,
  "metadata": {
    "colab": {
      "name": "3d_sk_detect.ipynb",
      "provenance": [],
      "collapsed_sections": [],
      "include_colab_link": true
    },
    "kernelspec": {
      "name": "python3",
      "display_name": "Python 3"
    },
    "accelerator": "GPU"
  },
  "cells": [
    {
      "cell_type": "markdown",
      "metadata": {
        "id": "view-in-github",
        "colab_type": "text"
      },
      "source": [
        "<a href=\"https://colab.research.google.com/github/laq6661/Monocular-camera-project/blob/master/3d_sk_detect2.ipynb\" target=\"_parent\"><img src=\"https://colab.research.google.com/assets/colab-badge.svg\" alt=\"Open In Colab\"/></a>"
      ]
    },
    {
      "cell_type": "code",
      "metadata": {
        "id": "HSd7tCrj1QIA",
        "colab_type": "code",
        "colab": {
          "base_uri": "https://localhost:8080/",
          "height": 35
        },
        "outputId": "781cc464-574e-4481-9fcc-3569f8ab2984"
      },
      "source": [
        "from sklearn.preprocessing import LabelEncoder\n",
        "from sklearn.model_selection import train_test_split\n",
        "from sklearn.metrics import classification_report\n",
        "from keras.preprocessing.image import img_to_array\n",
        "from keras.utils import np_utils\n",
        "from imutils import paths\n",
        "import matplotlib.pyplot as plt\n",
        "import numpy as np\n",
        "import imutils\n",
        "import cv2\n",
        "import os\n",
        "from keras.layers import Dropout\n",
        "from keras.layers.normalization import BatchNormalization\n",
        "from keras.layers.core import Activation\n",
        "\n",
        "from keras.models import Sequential\n",
        "from keras.layers.convolutional import Conv1D\n",
        "from keras.layers.convolutional import Conv2D\n",
        "from keras.layers.convolutional import MaxPooling1D\n",
        "from keras.layers.convolutional import MaxPooling2D\n",
        "from keras.layers.core import Activation\n",
        "from keras.layers.core import Flatten\n",
        "from keras.layers.core import Dense\n",
        "from google.colab import drive"
      ],
      "execution_count": 1,
      "outputs": [
        {
          "output_type": "stream",
          "text": [
            "Using TensorFlow backend.\n"
          ],
          "name": "stderr"
        }
      ]
    },
    {
      "cell_type": "code",
      "metadata": {
        "id": "AxKwgdMm1XtO",
        "colab_type": "code",
        "outputId": "e25a3fa0-f062-45a9-ff94-1f63c29eee95",
        "colab": {
          "base_uri": "https://localhost:8080/",
          "height": 69
        }
      },
      "source": [
        "labels=np.load('/content/drive/My Drive/data_sk/sk_label_h.npy')\n",
        "print(labels[0:5])\n",
        "print(np.shape(labels))\n",
        "\n",
        "data = np.load('/content/drive/My Drive/data_sk/sk_data_h.npy')\n",
        "#data = data.reshape(-1,50,3,1)\n",
        "print(np.shape(data))\n"
      ],
      "execution_count": 2,
      "outputs": [
        {
          "output_type": "stream",
          "text": [
            "[32 32 32 32 32]\n",
            "(1000000,)\n",
            "(1000000, 50, 3)\n"
          ],
          "name": "stdout"
        }
      ]
    },
    {
      "cell_type": "code",
      "metadata": {
        "id": "7fX1Ap4A4Wr1",
        "colab_type": "code",
        "colab": {}
      },
      "source": [
        "from google.colab import drive\n",
        "drive.mount('/content/drive')"
      ],
      "execution_count": 0,
      "outputs": []
    },
    {
      "cell_type": "code",
      "metadata": {
        "id": "5HegTo501hRG",
        "colab_type": "code",
        "colab": {}
      },
      "source": [
        "data = np.array(data)\n",
        "labels = np.array(labels)\n",
        "# for a in range(1,53,1):\n",
        "#   print(\"number of \",a,\"data is:\",list(labels).count(a))"
      ],
      "execution_count": 0,
      "outputs": []
    },
    {
      "cell_type": "code",
      "metadata": {
        "id": "gGv54HV_9fDt",
        "colab_type": "code",
        "outputId": "11a17571-279d-4785-e370-45b47e0f6c7b",
        "colab": {
          "base_uri": "https://localhost:8080/",
          "height": 52
        }
      },
      "source": [
        "le = LabelEncoder().fit(labels)   # LabelEncoder可以将标签分配一个0—n_classes-1之间的编码 \n",
        "print(labels)\n",
        "labels = np_utils.to_categorical(le.transform(labels), 51)  # 2是num_class表示输出的是2列数据的意思\n",
        "print(np.shape(labels))"
      ],
      "execution_count": 4,
      "outputs": [
        {
          "output_type": "stream",
          "text": [
            "[32 32 32 ... 30 30 30]\n",
            "(1000000, 51)\n"
          ],
          "name": "stdout"
        }
      ]
    },
    {
      "cell_type": "code",
      "metadata": {
        "id": "RPVOdALy_w5T",
        "colab_type": "code",
        "colab": {}
      },
      "source": [
        "(trainX, testX, trainY, testY) = train_test_split(data, labels, test_size = 0.15, \n",
        "                                                 stratify = labels, random_state = 42)"
      ],
      "execution_count": 0,
      "outputs": []
    },
    {
      "cell_type": "code",
      "metadata": {
        "id": "AoUJb9M8C0bt",
        "colab_type": "code",
        "outputId": "029fd766-7f6a-455b-f295-be6e3d495785",
        "colab": {
          "base_uri": "https://localhost:8080/",
          "height": 1000
        }
      },
      "source": [
        "print(trainX.ndim)\n",
        "print(trainX[0,:])\n",
        "print(np.shape(trainY))\n",
        "print(trainY)\n",
        "print(np.shape(testX))\n",
        "print(testY)"
      ],
      "execution_count": 6,
      "outputs": [
        {
          "output_type": "stream",
          "text": [
            "3\n",
            "[[-0.144674 -0.411363  3.097303]\n",
            " [-0.139651 -0.123362  3.125123]\n",
            " [-0.133946  0.158757  3.141343]\n",
            " [-0.131911  0.299104  3.133884]\n",
            " [-0.292311  0.045759  3.115519]\n",
            " [-0.332721 -0.187986  3.084459]\n",
            " [-0.331357 -0.380837  2.997894]\n",
            " [-0.325683 -0.410171  2.996526]\n",
            " [ 0.018486  0.033946  3.133054]\n",
            " [ 0.045021 -0.211031  3.103108]\n",
            " [ 0.047422 -0.401408  3.012823]\n",
            " [ 0.035684 -0.430261  3.013935]\n",
            " [-0.211596 -0.403509  3.055614]\n",
            " [-0.221383 -0.718029  3.085544]\n",
            " [-0.188028 -1.016188  3.091671]\n",
            " [-0.178391 -1.08881   3.008924]\n",
            " [-0.074427 -0.40994   3.069063]\n",
            " [-0.085888 -0.743059  3.103921]\n",
            " [-0.10301  -1.030768  3.094378]\n",
            " [-0.12378  -1.089696  3.006313]\n",
            " [-0.13546   0.088921  3.139582]\n",
            " [-0.326866 -0.449089  2.988758]\n",
            " [-0.291622 -0.423978  2.978062]\n",
            " [ 0.043227 -0.473856  3.007998]\n",
            " [ 0.063672 -0.434276  2.994656]\n",
            " [ 0.        0.        0.      ]\n",
            " [ 0.        0.        0.      ]\n",
            " [ 0.        0.        0.      ]\n",
            " [ 0.        0.        0.      ]\n",
            " [ 0.        0.        0.      ]\n",
            " [ 0.        0.        0.      ]\n",
            " [ 0.        0.        0.      ]\n",
            " [ 0.        0.        0.      ]\n",
            " [ 0.        0.        0.      ]\n",
            " [ 0.        0.        0.      ]\n",
            " [ 0.        0.        0.      ]\n",
            " [ 0.        0.        0.      ]\n",
            " [ 0.        0.        0.      ]\n",
            " [ 0.        0.        0.      ]\n",
            " [ 0.        0.        0.      ]\n",
            " [ 0.        0.        0.      ]\n",
            " [ 0.        0.        0.      ]\n",
            " [ 0.        0.        0.      ]\n",
            " [ 0.        0.        0.      ]\n",
            " [ 0.        0.        0.      ]\n",
            " [ 0.        0.        0.      ]\n",
            " [ 0.        0.        0.      ]\n",
            " [ 0.        0.        0.      ]\n",
            " [ 0.        0.        0.      ]\n",
            " [ 0.        0.        0.      ]]\n",
            "(850000, 51)\n",
            "[[0. 0. 0. ... 0. 0. 0.]\n",
            " [0. 0. 0. ... 0. 0. 0.]\n",
            " [0. 0. 0. ... 0. 0. 0.]\n",
            " ...\n",
            " [0. 0. 0. ... 0. 0. 0.]\n",
            " [0. 0. 0. ... 0. 0. 0.]\n",
            " [0. 0. 0. ... 0. 0. 0.]]\n",
            "(150000, 50, 3)\n",
            "[[0. 0. 0. ... 0. 0. 0.]\n",
            " [0. 0. 0. ... 0. 0. 0.]\n",
            " [0. 0. 0. ... 0. 0. 0.]\n",
            " ...\n",
            " [0. 0. 0. ... 0. 0. 0.]\n",
            " [0. 0. 0. ... 0. 0. 0.]\n",
            " [0. 0. 0. ... 0. 0. 0.]]\n"
          ],
          "name": "stdout"
        }
      ]
    },
    {
      "cell_type": "code",
      "metadata": {
        "id": "W97O3X4JDRAk",
        "colab_type": "code",
        "outputId": "6b745c08-39f5-4eef-c894-0c576af320a4",
        "colab": {
          "base_uri": "https://localhost:8080/",
          "height": 713
        }
      },
      "source": [
        "model = Sequential()\n",
        "model.add(Conv1D(input_shape=(50,3),kernel_size=3,filters=25,activation='relu',padding=\"same\"))\n",
        "model.add(MaxPooling1D(pool_size=3,strides=1,padding='same'))\n",
        "model.add(Conv1D(kernel_size=3, filters=50,  activation='relu', padding='same'))\n",
        "model.add(MaxPooling1D(pool_size=3, strides=2, padding='same'))\n",
        "model.add(Flatten())\n",
        "model.add(Dense(1024))\n",
        "#model.add(BatchNormalization())\n",
        "model.add(Activation('relu'))\n",
        "model.add(Dropout(rate=0.2))\n",
        "# model.add(Dense(1024))\n",
        "# # #model.add(BatchNormalization())\n",
        "# model.add(Activation('relu'))\n",
        "model.add(Dense(51, activation='softmax'))\n",
        "model.summary()"
      ],
      "execution_count": 7,
      "outputs": [
        {
          "output_type": "stream",
          "text": [
            "WARNING:tensorflow:From /usr/local/lib/python3.6/dist-packages/keras/backend/tensorflow_backend.py:66: The name tf.get_default_graph is deprecated. Please use tf.compat.v1.get_default_graph instead.\n",
            "\n",
            "WARNING:tensorflow:From /usr/local/lib/python3.6/dist-packages/keras/backend/tensorflow_backend.py:541: The name tf.placeholder is deprecated. Please use tf.compat.v1.placeholder instead.\n",
            "\n",
            "WARNING:tensorflow:From /usr/local/lib/python3.6/dist-packages/keras/backend/tensorflow_backend.py:4432: The name tf.random_uniform is deprecated. Please use tf.random.uniform instead.\n",
            "\n",
            "WARNING:tensorflow:From /usr/local/lib/python3.6/dist-packages/keras/backend/tensorflow_backend.py:4267: The name tf.nn.max_pool is deprecated. Please use tf.nn.max_pool2d instead.\n",
            "\n",
            "WARNING:tensorflow:From /usr/local/lib/python3.6/dist-packages/keras/backend/tensorflow_backend.py:148: The name tf.placeholder_with_default is deprecated. Please use tf.compat.v1.placeholder_with_default instead.\n",
            "\n",
            "WARNING:tensorflow:From /usr/local/lib/python3.6/dist-packages/keras/backend/tensorflow_backend.py:3733: calling dropout (from tensorflow.python.ops.nn_ops) with keep_prob is deprecated and will be removed in a future version.\n",
            "Instructions for updating:\n",
            "Please use `rate` instead of `keep_prob`. Rate should be set to `rate = 1 - keep_prob`.\n",
            "Model: \"sequential_1\"\n",
            "_________________________________________________________________\n",
            "Layer (type)                 Output Shape              Param #   \n",
            "=================================================================\n",
            "conv1d_1 (Conv1D)            (None, 50, 25)            250       \n",
            "_________________________________________________________________\n",
            "max_pooling1d_1 (MaxPooling1 (None, 50, 25)            0         \n",
            "_________________________________________________________________\n",
            "conv1d_2 (Conv1D)            (None, 50, 50)            3800      \n",
            "_________________________________________________________________\n",
            "max_pooling1d_2 (MaxPooling1 (None, 25, 50)            0         \n",
            "_________________________________________________________________\n",
            "flatten_1 (Flatten)          (None, 1250)              0         \n",
            "_________________________________________________________________\n",
            "dense_1 (Dense)              (None, 1024)              1281024   \n",
            "_________________________________________________________________\n",
            "activation_1 (Activation)    (None, 1024)              0         \n",
            "_________________________________________________________________\n",
            "dropout_1 (Dropout)          (None, 1024)              0         \n",
            "_________________________________________________________________\n",
            "dense_2 (Dense)              (None, 51)                52275     \n",
            "=================================================================\n",
            "Total params: 1,337,349\n",
            "Trainable params: 1,337,349\n",
            "Non-trainable params: 0\n",
            "_________________________________________________________________\n"
          ],
          "name": "stdout"
        }
      ]
    },
    {
      "cell_type": "code",
      "metadata": {
        "id": "IVFDJ_laFe_R",
        "colab_type": "code",
        "outputId": "a4ef14c3-4e07-4caa-e422-c51138ac07cb",
        "colab": {
          "base_uri": "https://localhost:8080/",
          "height": 451
        }
      },
      "source": [
        "model.compile(loss = \"binary_crossentropy\", optimizer = \"adam\", metrics = [\"accuracy\"])\n",
        "\n",
        "H = model.fit(trainX, trainY, validation_data = (testX, testY),\n",
        "              batch_size = 128, epochs = 36, verbose = 1)  #verbose = 1显示进度条"
      ],
      "execution_count": 22,
      "outputs": [
        {
          "output_type": "stream",
          "text": [
            "Train on 850000 samples, validate on 150000 samples\n",
            "Epoch 1/12\n",
            "850000/850000 [==============================] - 72s 85us/step - loss: 0.0094 - acc: 0.9967 - val_loss: 0.0075 - val_acc: 0.9974\n",
            "Epoch 2/12\n",
            "850000/850000 [==============================] - 72s 84us/step - loss: 0.0093 - acc: 0.9967 - val_loss: 0.0078 - val_acc: 0.9974\n",
            "Epoch 3/12\n",
            "850000/850000 [==============================] - 71s 84us/step - loss: 0.0093 - acc: 0.9967 - val_loss: 0.0073 - val_acc: 0.9975\n",
            "Epoch 4/12\n",
            "850000/850000 [==============================] - 70s 82us/step - loss: 0.0092 - acc: 0.9968 - val_loss: 0.0074 - val_acc: 0.9975\n",
            "Epoch 5/12\n",
            "850000/850000 [==============================] - 75s 89us/step - loss: 0.0091 - acc: 0.9968 - val_loss: 0.0078 - val_acc: 0.9973\n",
            "Epoch 6/12\n",
            "850000/850000 [==============================] - 78s 91us/step - loss: 0.0091 - acc: 0.9968 - val_loss: 0.0074 - val_acc: 0.9975\n",
            "Epoch 7/12\n",
            "850000/850000 [==============================] - 77s 90us/step - loss: 0.0091 - acc: 0.9968 - val_loss: 0.0072 - val_acc: 0.9976\n",
            "Epoch 8/12\n",
            "850000/850000 [==============================] - 74s 87us/step - loss: 0.0090 - acc: 0.9968 - val_loss: 0.0073 - val_acc: 0.9975\n",
            "Epoch 9/12\n",
            "850000/850000 [==============================] - 75s 88us/step - loss: 0.0090 - acc: 0.9969 - val_loss: 0.0074 - val_acc: 0.9975\n",
            "Epoch 10/12\n",
            "850000/850000 [==============================] - 74s 87us/step - loss: 0.0089 - acc: 0.9969 - val_loss: 0.0068 - val_acc: 0.9977\n",
            "Epoch 11/12\n",
            "850000/850000 [==============================] - 71s 83us/step - loss: 0.0088 - acc: 0.9969 - val_loss: 0.0074 - val_acc: 0.9974\n",
            "Epoch 12/12\n",
            "850000/850000 [==============================] - 71s 84us/step - loss: 0.0089 - acc: 0.9969 - val_loss: 0.0071 - val_acc: 0.9976\n"
          ],
          "name": "stdout"
        }
      ]
    },
    {
      "cell_type": "code",
      "metadata": {
        "id": "O-VPURf7OGZD",
        "colab_type": "code",
        "outputId": "a18758c4-31cb-4c5f-ae32-acb2b5b18ca0",
        "colab": {
          "base_uri": "https://localhost:8080/",
          "height": 1000
        }
      },
      "source": [
        "predictions = model.predict(testX, batch_size = 64)\n",
        "print(np.shape(predictions))\n",
        "print(predictions.argmax(axis =1))\n",
        "print(testY.argmax(axis = 1))\n",
        "leclass = [str(i) for i in le.classes_]\n",
        "print(leclass)\n",
        "print(classification_report(testY.argmax(axis = 1), predictions.argmax(axis = 1),\n",
        "                           target_names = leclass))"
      ],
      "execution_count": 23,
      "outputs": [
        {
          "output_type": "stream",
          "text": [
            "(150000, 51)\n",
            "[49 29  4 ... 46 14 41]\n",
            "[30 29  4 ... 46 14 41]\n",
            "['1', '2', '3', '4', '5', '6', '7', '8', '9', '10', '11', '12', '13', '14', '15', '16', '17', '18', '19', '20', '21', '22', '23', '24', '25', '26', '27', '28', '29', '30', '31', '32', '33', '34', '35', '36', '37', '38', '39', '40', '41', '42', '43', '44', '45', '46', '47', '48', '49', '50', '51']\n",
            "              precision    recall  f1-score   support\n",
            "\n",
            "           1       0.95      0.94      0.94      1536\n",
            "           2       0.94      0.95      0.95      5556\n",
            "           3       0.95      0.95      0.95      4976\n",
            "           4       0.96      0.92      0.94      2848\n",
            "           5       0.94      0.92      0.93      2469\n",
            "           6       0.87      0.88      0.88      2918\n",
            "           7       0.95      0.93      0.94      2525\n",
            "           8       0.96      0.95      0.95      4403\n",
            "           9       0.96      0.95      0.95      1151\n",
            "          10       0.96      0.98      0.97      5481\n",
            "          11       0.96      0.97      0.96       892\n",
            "          12       0.99      1.00      0.99      1635\n",
            "          13       0.85      0.93      0.89      3473\n",
            "          14       0.95      0.99      0.97      1255\n",
            "          15       0.91      0.89      0.90      2754\n",
            "          16       0.95      0.94      0.95      1384\n",
            "          17       0.86      0.90      0.88      2592\n",
            "          18       0.99      0.98      0.99       610\n",
            "          19       0.85      0.89      0.87      2018\n",
            "          20       0.98      0.98      0.98      4458\n",
            "          21       1.00      0.98      0.99      1012\n",
            "          22       0.93      0.91      0.92      2445\n",
            "          23       0.97      0.98      0.98      4698\n",
            "          24       0.98      0.99      0.99       942\n",
            "          25       0.90      0.90      0.90      3077\n",
            "          26       0.99      0.99      0.99       938\n",
            "          27       0.99      0.99      0.99       843\n",
            "          28       0.91      0.88      0.89      2760\n",
            "          29       0.86      0.94      0.90      2256\n",
            "          30       0.97      0.97      0.97      6683\n",
            "          31       0.86      0.89      0.87      3604\n",
            "          32       0.90      0.86      0.88      2285\n",
            "          33       0.97      0.97      0.97      1057\n",
            "          34       0.96      0.90      0.93       667\n",
            "          35       0.90      0.83      0.86      2300\n",
            "          36       0.76      0.78      0.77      1882\n",
            "          37       0.94      0.95      0.94      4132\n",
            "          38       0.94      0.87      0.91      1900\n",
            "          39       0.98      0.96      0.97      2592\n",
            "          40       0.96      0.95      0.96      3993\n",
            "          41       0.82      0.86      0.84      1889\n",
            "          42       0.95      0.93      0.94      3934\n",
            "          43       0.94      0.92      0.93      4179\n",
            "          44       0.87      0.91      0.89      3888\n",
            "          45       0.96      0.90      0.93      4611\n",
            "          46       0.99      0.99      0.99      3540\n",
            "          47       0.92      0.93      0.92      4868\n",
            "          48       0.95      0.95      0.95      6431\n",
            "          49       0.79      0.78      0.78      2225\n",
            "          50       0.87      0.90      0.89      4379\n",
            "          51       0.99      0.99      0.99      5056\n",
            "\n",
            "    accuracy                           0.93    150000\n",
            "   macro avg       0.93      0.93      0.93    150000\n",
            "weighted avg       0.93      0.93      0.93    150000\n",
            "\n"
          ],
          "name": "stdout"
        }
      ]
    },
    {
      "cell_type": "code",
      "metadata": {
        "id": "VIVcx_FuSU72",
        "colab_type": "code",
        "colab": {
          "base_uri": "https://localhost:8080/",
          "height": 35
        },
        "outputId": "c6766771-5da0-4e3c-bc9c-bbdeaee35bf1"
      },
      "source": [
        "scores = model.evaluate(testX, testY, verbose=0)\n",
        "print(\"Model Accuracy: %.2f%%\" % (scores[1]*100))"
      ],
      "execution_count": 12,
      "outputs": [
        {
          "output_type": "stream",
          "text": [
            "Model Accuracy: 99.47%\n"
          ],
          "name": "stdout"
        }
      ]
    },
    {
      "cell_type": "code",
      "metadata": {
        "id": "3ydGl5jqa4ge",
        "colab_type": "code",
        "colab": {}
      },
      "source": [
        "model.save(\"/content/drive/My Drive/data_sk/sk_conv_93.hdf5\")"
      ],
      "execution_count": 0,
      "outputs": []
    },
    {
      "cell_type": "code",
      "metadata": {
        "id": "VM_VnfGKlF0U",
        "colab_type": "code",
        "colab": {}
      },
      "source": [
        "from keras.models import load_model\n",
        "loaded_model = load_model(\"/content/drive/My Drive/data_sk/sk_con1d4.hdf5\")"
      ],
      "execution_count": 0,
      "outputs": []
    },
    {
      "cell_type": "code",
      "metadata": {
        "id": "zj5RLvXaWuOY",
        "colab_type": "code",
        "colab": {}
      },
      "source": [
        ""
      ],
      "execution_count": 0,
      "outputs": []
    }
  ]
}